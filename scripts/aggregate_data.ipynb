{
 "cells": [
  {
   "cell_type": "code",
   "execution_count": 32,
   "metadata": {},
   "outputs": [],
   "source": [
    "from tools.functions import *\n",
    "import glob"
   ]
  },
  {
   "cell_type": "code",
   "execution_count": 33,
   "metadata": {},
   "outputs": [
    {
     "name": "stdout",
     "output_type": "stream",
     "text": [
      "Found 3 matching files:\n"
     ]
    }
   ],
   "source": [
    "# chose the conditions to plot\n",
    "\n",
    "condition = \"sparse_age_01_born\"\n",
    "path = \"output_final/\"\n",
    "\n",
    "list_condition = glob.glob(path + \"*\" + condition + \".pkl\")\n",
    "print(\"Found \" + str(len(list_condition)) + \" matching files:\")"
   ]
  },
  {
   "cell_type": "code",
   "execution_count": 34,
   "metadata": {},
   "outputs": [],
   "source": [
    "off_time = 1\n",
    "threshold = [100, 150, 200] # not used if binarize = False\n",
    "binarize = False # should be false\n",
    "normalize = True # should be true \n",
    "\n",
    "aggregated_outputs = {}\n",
    "switch = True\n",
    "\n",
    "for version in list_condition: \n",
    "    output = load_output(version, path=\"\", extension=\"\")\n",
    "    Mv_loaded = output[\"Mv\"]\n",
    "    Mh_loaded = output[\"Mh\"]\n",
    "    time_test_on = output[\"time_test_on\"]\n",
    "    time_points_dict = output[\"time_points_dict\"]\n",
    "    n_seed_patterns = output[\"n_seed_patterns\"]\n",
    "    n_prototype_per_seed = output[\"n_prototype_per_seed\"]\n",
    "    n_variations_per_prototype = output[\"n_variations_per_prototype\"]\n",
    "    after_split_n_per_prototype_test = output[\"after_split_n_per_prototype_test\"]\n",
    "\n",
    "    hamming_distances, percent_match, originals, recovered = hamming_distances_test(Mv_loaded, time_test_on, time_points_dict, off_time=off_time, normalize=normalize,\n",
    "                                                                                    binarize = binarize, threshold = threshold)\n",
    "    hd_table_between = np.array(hamming_distances[:10 * after_split_n_per_prototype_test * n_seed_patterns]).reshape(10, after_split_n_per_prototype_test * n_seed_patterns)\n",
    "    pm_table_between = np.array(percent_match[:10 * after_split_n_per_prototype_test * n_seed_patterns]).reshape(10, after_split_n_per_prototype_test * n_seed_patterns)\n",
    "    hd_table_within = np.array(hamming_distances[10 * after_split_n_per_prototype_test * n_seed_patterns:]).reshape(10, after_split_n_per_prototype_test * n_seed_patterns)\n",
    "    pm_table_within = np.array(percent_match[10 * after_split_n_per_prototype_test * n_seed_patterns:]).reshape(10, after_split_n_per_prototype_test * n_seed_patterns)\n",
    "    \n",
    "    if switch == True: \n",
    "        aggregated_outputs[\"hd_table_between\"] = hd_table_between\n",
    "        aggregated_outputs[\"pm_table_between\"] = pm_table_between\n",
    "        aggregated_outputs[\"hd_table_within\"] = hd_table_within\n",
    "        aggregated_outputs[\"pm_table_within\"] = pm_table_within\n",
    "        switch = False\n",
    "    else:\n",
    "        aggregated_outputs[\"hd_table_between\"] = np.concatenate((aggregated_outputs[\"hd_table_between\"], hd_table_between), axis=1)\n",
    "        aggregated_outputs[\"pm_table_between\"] = np.concatenate((aggregated_outputs[\"pm_table_between\"], pm_table_between), axis=1)\n",
    "        aggregated_outputs[\"hd_table_within\"] = np.concatenate((aggregated_outputs[\"hd_table_within\"], hd_table_within), axis=1)\n",
    "        aggregated_outputs[\"pm_table_within\"] = np.concatenate((aggregated_outputs[\"pm_table_within\"], pm_table_within), axis=1)\n",
    "\n",
    "\n",
    "# save the aggregated outputs\n",
    "\n",
    "saving_path = \"final_data/\"\n",
    "\n",
    "import pickle\n",
    "with open(saving_path + condition + \"_aggregated_outputs.pkl\", 'wb') as f:\n",
    "    pickle.dump(aggregated_outputs, f)\n",
    "\n",
    "\n"
   ]
  }
 ],
 "metadata": {
  "kernelspec": {
   "display_name": "jupyt-tf",
   "language": "python",
   "name": "python3"
  },
  "language_info": {
   "codemirror_mode": {
    "name": "ipython",
    "version": 3
   },
   "file_extension": ".py",
   "mimetype": "text/x-python",
   "name": "python",
   "nbconvert_exporter": "python",
   "pygments_lexer": "ipython3",
   "version": "3.9.15"
  },
  "orig_nbformat": 4
 },
 "nbformat": 4,
 "nbformat_minor": 2
}

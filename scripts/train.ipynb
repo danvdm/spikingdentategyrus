{
 "cells": [
  {
   "attachments": {},
   "cell_type": "markdown",
   "id": "37162d17",
   "metadata": {},
   "source": [
    "### Training \n",
    "\n",
    "The srbm is trained with data similar to the one used by Finnegan et al. (2015)"
   ]
  },
  {
   "cell_type": "code",
   "execution_count": 1,
   "id": "7781eafb",
   "metadata": {},
   "outputs": [
    {
     "name": "stderr",
     "output_type": "stream",
     "text": [
      "/opt/homebrew/Caskroom/miniconda/base/envs/jupyt-tf/lib/python3.9/site-packages/scipy/__init__.py:146: UserWarning: A NumPy version >=1.16.5 and <1.23.0 is required for this version of SciPy (detected version 1.23.2\n",
      "  warnings.warn(f\"A NumPy version >={np_minversion} and <{np_maxversion}\"\n"
     ]
    },
    {
     "name": "stdout",
     "output_type": "stream",
     "text": [
      "\n",
      "Please run the data generation file if not done so yet!!\n",
      "\n",
      "Number of seed patterns:                      5\n",
      "Number of prototypes per seed patterns        10\n",
      "Number of prototypes total:                   50\n",
      "Number of variations per prototype            15\n",
      "Number of patterns total                      750\n",
      "Number of input neurons (stimulus length):    50\n",
      "Number of hidden neurons:                     100\n",
      "Number of class neurons:                      0\n",
      "Number of class neurons per class:            0\n",
      "Data loaded from data/data_50_10.pkl\n",
      "\n",
      "Variations per prototype in train set after train-test-split: 13\n",
      "Variations per prototype in test set after train-test-split:  2\n",
      "\n",
      "Each group consists of 65 randomized patterns. \n",
      "The patterns for the first group consist of the 13 variations of the first of the 10 prototypes \n",
      "that were generated for each of the 5 seed patterns. \n",
      "Practically, that means that the first group consists of the 9 variations of the first prototype \n",
      "generated of the first seed pattern + the 9 variations of the first prototype generated of the second \n",
      "seed pattern, etc., making 65 patterns in total. \n",
      "The second group consists of the 9 variations of the second prototype generated of the first seed \n",
      "pattern + the 9 variations of the second prototype generated of the second seed pattern, etc.\n"
     ]
    },
    {
     "data": {
      "image/png": "[encoded data removed]",
      "text/plain": [
       "<Figure size 640x480 with 1 Axes>"
      ]
     },
     "metadata": {},
     "output_type": "display_data"
    },
    {
     "name": "stdout",
     "output_type": "stream",
     "text": [
      "The input patterns are shown above. \n",
      "After each group of 65 patterns, test patterns for each prototype are shown. \n",
      "In the end all test patterns are shown. \n",
      "\n"
     ]
    }
   ],
   "source": [
    "import numpy as np \n",
    "from tools.srbm import *           # !!! Importing the experimental SRBM model !!!\n",
    "from tools.functions import *\n",
    "import matplotlib.pyplot as plt\n",
    "from brian2tools import *\n",
    "from tools.parameters import *\n",
    "from generate_data import *\n",
    "\n",
    "date_str = str(datetime.datetime.now())[0:10]\n",
    "date_time_str = str(datetime.datetime.now())[0:10]+\"_\"+str(datetime.datetime.now())[11:16]\n",
    "\n",
    "# Some parameters for training the SRBM - the others are in paramters_main.py\n",
    "\n",
    "T = dcmt*t_ref\n",
    "init_delay=dcmt*t_ref\n",
    "delay=0*ms\n",
    "\n",
    "n_samples = 10\n",
    "\n",
    "# Loading the data\n",
    "data_finnegan = load_data(\"data_50_15\")\n",
    "\n",
    "train_test_data = train_test_split_finnegan(data_finnegan, 0.9)\n",
    "\n",
    "print(\"\\nVariations per prototype in train set after train-test-split: \" + str(len(train_test_data[0][0])))\n",
    "print(\"Variations per prototype in test set after train-test-split:  \" + str(len(train_test_data[1][0])))\n",
    "\n",
    "off_time = 1 # How many frames should be after a test pattern before the next test pattern is presented?\n",
    "\n",
    "# Create the Ids. Test patterns are not randomized!\n",
    "Ids, time_test_on, time_test_off = create_finnegan_Ids(train_test_data, off_time = 1)\n",
    "\n",
    "print(\"\\nEach group consists of \" + str(len(train_test_data[0][0]) * n_seed_patterns) + \" randomized patterns. \\n\" +\n",
    "      \"The patterns for the first group consist of the \" + str(len(train_test_data[0][0])) + \" variations of \" + \n",
    "      \"the first of the \" + str(n_prototype_per_seed) +  \" prototypes \\nthat were generated for each of the \" + str(n_seed_patterns) + \" seed patterns. \\n\" + \n",
    "      \"Practically, that means that the first group consists of the 9 variations of the first prototype \\n\" + \n",
    "      \"generated of the first seed pattern + the 9 variations of the first prototype generated of the second \\n\" + \n",
    "      \"seed pattern, etc., making \" + str(len(train_test_data[0][0]) * n_seed_patterns) + \" patterns in total. \\n\" + \n",
    "      \"The second group consists of the 9 variations of the second prototype generated of the first seed \\n\" + \n",
    "      \"pattern + the 9 variations of the second prototype generated of the second seed pattern, etc.\")\n",
    "\n",
    "fig, ax = plt.subplots()\n",
    "plt.imshow(Ids, cmap='gray', aspect='auto', interpolation= \"None\")\n",
    "plt.xlabel(\"Neuron index\")\n",
    "plt.ylabel(\"Time step\")\n",
    "plt.title(\"Input patterns\")\n",
    "plt.show()\n",
    "print(\"The input patterns are shown above. \\n\" +\n",
    "      \"After each group of \" + str(len(train_test_data[0][0]) * n_seed_patterns) + \" patterns, test patterns for each prototype are shown. \\n\" + \n",
    "      \"In the end all test patterns are shown. \\n\")\n",
    "\n"
   ]
  },
  {
   "cell_type": "code",
   "execution_count": 2,
   "id": "8b797270",
   "metadata": {},
   "outputs": [],
   "source": [
    "## shorten ids for trials!\n",
    "Ids = Ids[0:100]"
   ]
  },
  {
   "cell_type": "code",
   "execution_count": 3,
   "id": "088e3543",
   "metadata": {},
   "outputs": [],
   "source": [
    "# Create the parameters for the SRBM\n",
    "W, b_v, b_c, b_h = create_rbm_parameters(N_v = N_v, N_c = N_c, N_h = N_h)\n",
    "\n",
    "# Create timepoints for classificaiton\n",
    "# One timepoint for each input pattern. Starts with timepoint 1\n",
    "timepoints, t_sim, time_points_dict = create_timepoints(Ids, init_delay, delay, T)\n",
    "\n",
    "# Calculate simulation time for accurate neural growth\n",
    "sim_time = (t_sim / (dcmt*t_ref))"
   ]
  },
  {
   "cell_type": "code",
   "execution_count": 4,
   "id": "df72c2d9",
   "metadata": {},
   "outputs": [
    {
     "name": "stdout",
     "output_type": "stream",
     "text": [
      "Starting the SRBM simulation...\n",
      "ageing factor:  0.49999999999999967\n"
     ]
    },
    {
     "name": "stderr",
     "output_type": "stream",
     "text": [
      "INFO:root:creating /var/folders/07/kzl97fv95b7d6cv_kvm50vc80000gn/T/brian_flag_test__qinrr43/var\n",
      "INFO:root:creating /var/folders/07/kzl97fv95b7d6cv_kvm50vc80000gn/T/brian_flag_test__qinrr43/var/folders\n",
      "INFO:root:creating /var/folders/07/kzl97fv95b7d6cv_kvm50vc80000gn/T/brian_flag_test__qinrr43/var/folders/07\n",
      "INFO:root:creating /var/folders/07/kzl97fv95b7d6cv_kvm50vc80000gn/T/brian_flag_test__qinrr43/var/folders/07/kzl97fv95b7d6cv_kvm50vc80000gn\n",
      "INFO:root:creating /var/folders/07/kzl97fv95b7d6cv_kvm50vc80000gn/T/brian_flag_test__qinrr43/var/folders/07/kzl97fv95b7d6cv_kvm50vc80000gn/T\n",
      "INFO:root:creating /var/folders/07/kzl97fv95b7d6cv_kvm50vc80000gn/T/brian_flag_test__qinrr43/var/folders/07/kzl97fv95b7d6cv_kvm50vc80000gn/T/brian_flag_test__qinrr43\n",
      "INFO:root:arm64-apple-darwin20.0.0-clang -Wno-unused-result -Wsign-compare -Wunreachable-code -DNDEBUG -fwrapv -O2 -Wall -fPIC -O2 -isystem /opt/homebrew/Caskroom/miniconda/base/envs/jupyt-tf/include -arch arm64 -fPIC -O2 -isystem /opt/homebrew/Caskroom/miniconda/base/envs/jupyt-tf/include -arch arm64 -ftree-vectorize -fPIC -fPIE -fstack-protector-strong -O2 -pipe -isystem /opt/homebrew/Caskroom/miniconda/base/envs/jupyt-tf/include -D_FORTIFY_SOURCE=2 -isystem /opt/homebrew/Caskroom/miniconda/base/envs/jupyt-tf/include -c /var/folders/07/kzl97fv95b7d6cv_kvm50vc80000gn/T/brian_flag_test__qinrr43/flag_test.cpp -o /var/folders/07/kzl97fv95b7d6cv_kvm50vc80000gn/T/brian_flag_test__qinrr43/var/folders/07/kzl97fv95b7d6cv_kvm50vc80000gn/T/brian_flag_test__qinrr43/flag_test.o -w\n",
      "INFO:root:creating /var/folders/07/kzl97fv95b7d6cv_kvm50vc80000gn/T/brian_flag_test_s6mph6xo/var\n",
      "INFO:root:creating /var/folders/07/kzl97fv95b7d6cv_kvm50vc80000gn/T/brian_flag_test_s6mph6xo/var/folders\n",
      "INFO:root:creating /var/folders/07/kzl97fv95b7d6cv_kvm50vc80000gn/T/brian_flag_test_s6mph6xo/var/folders/07\n",
      "INFO:root:creating /var/folders/07/kzl97fv95b7d6cv_kvm50vc80000gn/T/brian_flag_test_s6mph6xo/var/folders/07/kzl97fv95b7d6cv_kvm50vc80000gn\n",
      "INFO:root:creating /var/folders/07/kzl97fv95b7d6cv_kvm50vc80000gn/T/brian_flag_test_s6mph6xo/var/folders/07/kzl97fv95b7d6cv_kvm50vc80000gn/T\n",
      "INFO:root:creating /var/folders/07/kzl97fv95b7d6cv_kvm50vc80000gn/T/brian_flag_test_s6mph6xo/var/folders/07/kzl97fv95b7d6cv_kvm50vc80000gn/T/brian_flag_test_s6mph6xo\n",
      "INFO:root:arm64-apple-darwin20.0.0-clang -Wno-unused-result -Wsign-compare -Wunreachable-code -DNDEBUG -fwrapv -O2 -Wall -fPIC -O2 -isystem /opt/homebrew/Caskroom/miniconda/base/envs/jupyt-tf/include -arch arm64 -fPIC -O2 -isystem /opt/homebrew/Caskroom/miniconda/base/envs/jupyt-tf/include -arch arm64 -ftree-vectorize -fPIC -fPIE -fstack-protector-strong -O2 -pipe -isystem /opt/homebrew/Caskroom/miniconda/base/envs/jupyt-tf/include -D_FORTIFY_SOURCE=2 -isystem /opt/homebrew/Caskroom/miniconda/base/envs/jupyt-tf/include -c /var/folders/07/kzl97fv95b7d6cv_kvm50vc80000gn/T/brian_flag_test_s6mph6xo/flag_test.cpp -o /var/folders/07/kzl97fv95b7d6cv_kvm50vc80000gn/T/brian_flag_test_s6mph6xo/var/folders/07/kzl97fv95b7d6cv_kvm50vc80000gn/T/brian_flag_test_s6mph6xo/flag_test.o -O3\n",
      "INFO:root:creating /var/folders/07/kzl97fv95b7d6cv_kvm50vc80000gn/T/brian_flag_test_2u29zug1/var\n",
      "INFO:root:creating /var/folders/07/kzl97fv95b7d6cv_kvm50vc80000gn/T/brian_flag_test_2u29zug1/var/folders\n",
      "INFO:root:creating /var/folders/07/kzl97fv95b7d6cv_kvm50vc80000gn/T/brian_flag_test_2u29zug1/var/folders/07\n",
      "INFO:root:creating /var/folders/07/kzl97fv95b7d6cv_kvm50vc80000gn/T/brian_flag_test_2u29zug1/var/folders/07/kzl97fv95b7d6cv_kvm50vc80000gn\n",
      "INFO:root:creating /var/folders/07/kzl97fv95b7d6cv_kvm50vc80000gn/T/brian_flag_test_2u29zug1/var/folders/07/kzl97fv95b7d6cv_kvm50vc80000gn/T\n",
      "INFO:root:creating /var/folders/07/kzl97fv95b7d6cv_kvm50vc80000gn/T/brian_flag_test_2u29zug1/var/folders/07/kzl97fv95b7d6cv_kvm50vc80000gn/T/brian_flag_test_2u29zug1\n",
      "INFO:root:arm64-apple-darwin20.0.0-clang -Wno-unused-result -Wsign-compare -Wunreachable-code -DNDEBUG -fwrapv -O2 -Wall -fPIC -O2 -isystem /opt/homebrew/Caskroom/miniconda/base/envs/jupyt-tf/include -arch arm64 -fPIC -O2 -isystem /opt/homebrew/Caskroom/miniconda/base/envs/jupyt-tf/include -arch arm64 -ftree-vectorize -fPIC -fPIE -fstack-protector-strong -O2 -pipe -isystem /opt/homebrew/Caskroom/miniconda/base/envs/jupyt-tf/include -D_FORTIFY_SOURCE=2 -isystem /opt/homebrew/Caskroom/miniconda/base/envs/jupyt-tf/include -c /var/folders/07/kzl97fv95b7d6cv_kvm50vc80000gn/T/brian_flag_test_2u29zug1/flag_test.cpp -o /var/folders/07/kzl97fv95b7d6cv_kvm50vc80000gn/T/brian_flag_test_2u29zug1/var/folders/07/kzl97fv95b7d6cv_kvm50vc80000gn/T/brian_flag_test_2u29zug1/flag_test.o -ffast-math\n",
      "INFO:root:creating /var/folders/07/kzl97fv95b7d6cv_kvm50vc80000gn/T/brian_flag_test_c49w2ojt/var\n",
      "INFO:root:creating /var/folders/07/kzl97fv95b7d6cv_kvm50vc80000gn/T/brian_flag_test_c49w2ojt/var/folders\n",
      "INFO:root:creating /var/folders/07/kzl97fv95b7d6cv_kvm50vc80000gn/T/brian_flag_test_c49w2ojt/var/folders/07\n",
      "INFO:root:creating /var/folders/07/kzl97fv95b7d6cv_kvm50vc80000gn/T/brian_flag_test_c49w2ojt/var/folders/07/kzl97fv95b7d6cv_kvm50vc80000gn\n",
      "INFO:root:creating /var/folders/07/kzl97fv95b7d6cv_kvm50vc80000gn/T/brian_flag_test_c49w2ojt/var/folders/07/kzl97fv95b7d6cv_kvm50vc80000gn/T\n",
      "INFO:root:creating /var/folders/07/kzl97fv95b7d6cv_kvm50vc80000gn/T/brian_flag_test_c49w2ojt/var/folders/07/kzl97fv95b7d6cv_kvm50vc80000gn/T/brian_flag_test_c49w2ojt\n",
      "INFO:root:arm64-apple-darwin20.0.0-clang -Wno-unused-result -Wsign-compare -Wunreachable-code -DNDEBUG -fwrapv -O2 -Wall -fPIC -O2 -isystem /opt/homebrew/Caskroom/miniconda/base/envs/jupyt-tf/include -arch arm64 -fPIC -O2 -isystem /opt/homebrew/Caskroom/miniconda/base/envs/jupyt-tf/include -arch arm64 -ftree-vectorize -fPIC -fPIE -fstack-protector-strong -O2 -pipe -isystem /opt/homebrew/Caskroom/miniconda/base/envs/jupyt-tf/include -D_FORTIFY_SOURCE=2 -isystem /opt/homebrew/Caskroom/miniconda/base/envs/jupyt-tf/include -c /var/folders/07/kzl97fv95b7d6cv_kvm50vc80000gn/T/brian_flag_test_c49w2ojt/flag_test.cpp -o /var/folders/07/kzl97fv95b7d6cv_kvm50vc80000gn/T/brian_flag_test_c49w2ojt/var/folders/07/kzl97fv95b7d6cv_kvm50vc80000gn/T/brian_flag_test_c49w2ojt/flag_test.o -fno-finite-math-only\n",
      "INFO:root:creating /var/folders/07/kzl97fv95b7d6cv_kvm50vc80000gn/T/brian_flag_test_4rciaz5i/var\n",
      "INFO:root:creating /var/folders/07/kzl97fv95b7d6cv_kvm50vc80000gn/T/brian_flag_test_4rciaz5i/var/folders\n",
      "INFO:root:creating /var/folders/07/kzl97fv95b7d6cv_kvm50vc80000gn/T/brian_flag_test_4rciaz5i/var/folders/07\n",
      "INFO:root:creating /var/folders/07/kzl97fv95b7d6cv_kvm50vc80000gn/T/brian_flag_test_4rciaz5i/var/folders/07/kzl97fv95b7d6cv_kvm50vc80000gn\n",
      "INFO:root:creating /var/folders/07/kzl97fv95b7d6cv_kvm50vc80000gn/T/brian_flag_test_4rciaz5i/var/folders/07/kzl97fv95b7d6cv_kvm50vc80000gn/T\n",
      "INFO:root:creating /var/folders/07/kzl97fv95b7d6cv_kvm50vc80000gn/T/brian_flag_test_4rciaz5i/var/folders/07/kzl97fv95b7d6cv_kvm50vc80000gn/T/brian_flag_test_4rciaz5i\n",
      "INFO:root:arm64-apple-darwin20.0.0-clang -Wno-unused-result -Wsign-compare -Wunreachable-code -DNDEBUG -fwrapv -O2 -Wall -fPIC -O2 -isystem /opt/homebrew/Caskroom/miniconda/base/envs/jupyt-tf/include -arch arm64 -fPIC -O2 -isystem /opt/homebrew/Caskroom/miniconda/base/envs/jupyt-tf/include -arch arm64 -ftree-vectorize -fPIC -fPIE -fstack-protector-strong -O2 -pipe -isystem /opt/homebrew/Caskroom/miniconda/base/envs/jupyt-tf/include -D_FORTIFY_SOURCE=2 -isystem /opt/homebrew/Caskroom/miniconda/base/envs/jupyt-tf/include -c /var/folders/07/kzl97fv95b7d6cv_kvm50vc80000gn/T/brian_flag_test_4rciaz5i/flag_test.cpp -o /var/folders/07/kzl97fv95b7d6cv_kvm50vc80000gn/T/brian_flag_test_4rciaz5i/var/folders/07/kzl97fv95b7d6cv_kvm50vc80000gn/T/brian_flag_test_4rciaz5i/flag_test.o -march=native\n",
      "WARNING    Removing unsupported flag '-march=native' from compiler flags. [brian2.codegen.cpp_prefs]\n",
      "INFO:root:creating /var/folders/07/kzl97fv95b7d6cv_kvm50vc80000gn/T/brian_flag_test_7k7azxtl/var\n",
      "INFO:root:creating /var/folders/07/kzl97fv95b7d6cv_kvm50vc80000gn/T/brian_flag_test_7k7azxtl/var/folders\n",
      "INFO:root:creating /var/folders/07/kzl97fv95b7d6cv_kvm50vc80000gn/T/brian_flag_test_7k7azxtl/var/folders/07\n",
      "INFO:root:creating /var/folders/07/kzl97fv95b7d6cv_kvm50vc80000gn/T/brian_flag_test_7k7azxtl/var/folders/07/kzl97fv95b7d6cv_kvm50vc80000gn\n",
      "INFO:root:creating /var/folders/07/kzl97fv95b7d6cv_kvm50vc80000gn/T/brian_flag_test_7k7azxtl/var/folders/07/kzl97fv95b7d6cv_kvm50vc80000gn/T\n",
      "INFO:root:creating /var/folders/07/kzl97fv95b7d6cv_kvm50vc80000gn/T/brian_flag_test_7k7azxtl/var/folders/07/kzl97fv95b7d6cv_kvm50vc80000gn/T/brian_flag_test_7k7azxtl\n",
      "INFO:root:arm64-apple-darwin20.0.0-clang -Wno-unused-result -Wsign-compare -Wunreachable-code -DNDEBUG -fwrapv -O2 -Wall -fPIC -O2 -isystem /opt/homebrew/Caskroom/miniconda/base/envs/jupyt-tf/include -arch arm64 -fPIC -O2 -isystem /opt/homebrew/Caskroom/miniconda/base/envs/jupyt-tf/include -arch arm64 -ftree-vectorize -fPIC -fPIE -fstack-protector-strong -O2 -pipe -isystem /opt/homebrew/Caskroom/miniconda/base/envs/jupyt-tf/include -D_FORTIFY_SOURCE=2 -isystem /opt/homebrew/Caskroom/miniconda/base/envs/jupyt-tf/include -c /var/folders/07/kzl97fv95b7d6cv_kvm50vc80000gn/T/brian_flag_test_7k7azxtl/flag_test.cpp -o /var/folders/07/kzl97fv95b7d6cv_kvm50vc80000gn/T/brian_flag_test_7k7azxtl/var/folders/07/kzl97fv95b7d6cv_kvm50vc80000gn/T/brian_flag_test_7k7azxtl/flag_test.o -std=c++11\n",
      "INFO       No numerical integration method specified for group 'neurongroup_2', using method 'euler' (took 0.00s, trying other methods took 0.01s). [brian2.stateupdaters.base.method_choice]\n"
     ]
    },
    {
     "name": "stdout",
     "output_type": "stream",
     "text": [
      "Starting simulation at t=0. s for a duration of 16. s\n",
      "10.7281 s (67%) simulated in 10s, estimated 5s remaining.\n",
      "16. s (100%) simulated in 14s\n",
      "14.971471071243286\n"
     ]
    }
   ],
   "source": [
    "# SRBM main function\n",
    "print(\"Starting the SRBM simulation...\")\n",
    "out = main(W, b_v, b_c, b_h, Id = Ids, sim_time = sim_time, t_sim = t_sim, p_target = 0.0001, \n",
    "           sparsity_cost = 0.1e-9*0, leak_helper = 4, dorun = True, n_classes = 5, \n",
    "            monitors = True, display=False, age_neurons = False, generations = 2) # set display to false if no lables are used \n",
    "locals().update(out)"
   ]
  },
  {
   "cell_type": "code",
   "execution_count": 5,
   "id": "7ac1f37b",
   "metadata": {},
   "outputs": [],
   "source": [
    "Mh, Mv, Mc= out['Mh'], out['Mv'], out['Mc']\n",
    "sMhh = out[\"sMhh\"]\n",
    "sMh = out[\"sMh\"]\n",
    "sMh_age = out[\"sMh_age\"]\n",
    "sMh_v = out[\"sMh_v\"]\n",
    "sMhh_age = out[\"sMhh_age\"]\n",
    "weights = out[\"weights\"]"
   ]
  },
  {
   "cell_type": "code",
   "execution_count": 6,
   "id": "4ea00ba9",
   "metadata": {},
   "outputs": [
    {
     "data": {
      "text/plain": [
       "' import pandas as pd\\ndf = pd.DataFrame(weights)\\ndf.to_csv(\"weights.csv\") '"
      ]
     },
     "execution_count": 6,
     "metadata": {},
     "output_type": "execute_result"
    }
   ],
   "source": [
    "\"\"\" import pandas as pd\n",
    "df = pd.DataFrame(weights)\n",
    "df.to_csv(\"weights.csv\") \"\"\""
   ]
  },
  {
   "cell_type": "code",
   "execution_count": null,
   "id": "16e4ef44",
   "metadata": {},
   "outputs": [
    {
     "data": {
      "text/plain": [
       "\" # Some plots - use only with small trial sets!\\nn_neurons = 10\\nfor i in np.arange(n_neurons):\\n    plt.plot(sMh_age.t/ms, gomperz_function(sMh_age.age[i], 2), linewidth=1)\\nplt.ylim(-0.2, 1.2)\\n\\nplt.show()\\n\\nfor i in np.arange(n_neurons):\\n    plt.plot(sMhh.t/ms, sMhh.q[i], label='Neuron ' + str(i), linewidth=0.5)\\n#plt.ylim(0, 0.01)\\n#plt.legend(loc=2, prop={'size': 8})\\n\\nplt.show()\\n\\n#plot_raster(Mh.i, Mh.t, markersize=2,marker='|', color='k', mew=1)\\n#plt.show() \""
      ]
     },
     "execution_count": 7,
     "metadata": {},
     "output_type": "execute_result"
    }
   ],
   "source": [
    "\"\"\" # Some plots - use only with small trial sets!\n",
    "n_neurons = 10\n",
    "for i in np.arange(n_neurons):\n",
    "    plt.plot(sMh_age.t/ms, gomperz_function(sMh_age.age[i], 2), linewidth=1)\n",
    "plt.ylim(-0.2, 1.2)\n",
    "\n",
    "plt.show()\n",
    "\n",
    "for i in np.arange(n_neurons):\n",
    "    plt.plot(sMhh.t/ms, sMhh.q[i], label='Neuron ' + str(i), linewidth=0.5)\n",
    "#plt.ylim(0, 0.01)\n",
    "#plt.legend(loc=2, prop={'size': 8})\n",
    "\n",
    "plt.show()\n",
    "\n",
    "#plot_raster(Mh.i, Mh.t, markersize=2,marker='|', color='k', mew=1)\n",
    "#plt.show() \"\"\""
   ]
  },
  {
   "cell_type": "code",
   "execution_count": null,
   "id": "336ef71a",
   "metadata": {},
   "outputs": [],
   "source": [
    "# Prepare weights and biases\n",
    "W = np.array(Srs.w).reshape(N_v+N_c, N_h)*beta_parameter\n",
    "Wvh=W[:N_v,:]\n",
    "Wch=W[N_v:,:]\n",
    "mBv = np.array(Sbv.w)*beta_parameter*tau_rec*bias_input_rate\n",
    "mBh = np.array(Sbh.w)*beta_parameter*tau_rec*bias_input_rate\n",
    "b_c = mBv[N_v:(N_v+N_c)]\n",
    "b_v = mBv[:N_v]\n",
    "b_h = mBh\n",
    "mB = np.concatenate([mBv,mBh])"
   ]
  },
  {
   "cell_type": "code",
   "execution_count": 20,
   "id": "8e982131",
   "metadata": {},
   "outputs": [
    {
     "data": {
      "text/plain": [
       "array([[-1.02653083e-10, -4.72950545e-11, -6.82748049e-11, ...,\n",
       "        -5.45032153e-11, -4.67051125e-11, -8.46632355e-11],\n",
       "       [-1.21292358e-10, -1.09858605e-10, -6.10410425e-11, ...,\n",
       "        -5.58925430e-11, -9.31391586e-11, -1.10082142e-10],\n",
       "       [-1.99476436e-10, -2.29767998e-11, -8.10932371e-11, ...,\n",
       "        -1.37066047e-10,  3.11927712e-11, -5.99592380e-11],\n",
       "       ...,\n",
       "       [-1.70973152e-10, -7.76130547e-11, -2.27957157e-11, ...,\n",
       "        -1.72421763e-10, -2.24161870e-11, -9.87778194e-11],\n",
       "       [-1.25935976e-10, -2.88395269e-11, -1.41277385e-10, ...,\n",
       "        -2.03805411e-11, -4.75406260e-11, -8.28290210e-11],\n",
       "       [ 4.77064688e-11, -1.28994898e-10, -2.67413391e-11, ...,\n",
       "        -1.29974211e-10, -1.11792923e-10, -4.97310092e-11]])"
      ]
     },
     "execution_count": 20,
     "metadata": {},
     "output_type": "execute_result"
    }
   ],
   "source": [
    "np.array(Srs.w).reshape(N_v+N_c, N_h)"
   ]
  },
  {
   "cell_type": "code",
   "execution_count": 14,
   "id": "2d09160c",
   "metadata": {},
   "outputs": [
    {
     "data": {
      "text/plain": [
       "array([  66,   68,   70,   72,   74,   76,   78,   80,   82,   84,  151,\n",
       "        153,  155,  157,  159,  161,  163,  165,  167,  169,  236,  238,\n",
       "        240,  242,  244,  246,  248,  250,  252,  254,  321,  323,  325,\n",
       "        327,  329,  331,  333,  335,  337,  339,  406,  408,  410,  412,\n",
       "        414,  416,  418,  420,  422,  424,  491,  493,  495,  497,  499,\n",
       "        501,  503,  505,  507,  509,  576,  578,  580,  582,  584,  586,\n",
       "        588,  590,  592,  594,  661,  663,  665,  667,  669,  671,  673,\n",
       "        675,  677,  679,  746,  748,  750,  752,  754,  756,  758,  760,\n",
       "        762,  764,  831,  833,  835,  837,  839,  841,  843,  845,  847,\n",
       "        849,  851,  853,  855,  857,  859,  861,  863,  865,  867,  869,\n",
       "        871,  873,  875,  877,  879,  881,  883,  885,  887,  889,  891,\n",
       "        893,  895,  897,  899,  901,  903,  905,  907,  909,  911,  913,\n",
       "        915,  917,  919,  921,  923,  925,  927,  929,  931,  933,  935,\n",
       "        937,  939,  941,  943,  945,  947,  949,  951,  953,  955,  957,\n",
       "        959,  961,  963,  965,  967,  969,  971,  973,  975,  977,  979,\n",
       "        981,  983,  985,  987,  989,  991,  993,  995,  997,  999, 1001,\n",
       "       1003, 1005, 1007, 1009, 1011, 1013, 1015, 1017, 1019, 1021, 1023,\n",
       "       1025, 1027, 1029, 1031, 1033, 1035, 1037, 1039, 1041, 1043, 1045,\n",
       "       1047, 1049])"
      ]
     },
     "execution_count": 14,
     "metadata": {},
     "output_type": "execute_result"
    }
   ],
   "source": [
    "time_test_on"
   ]
  },
  {
   "cell_type": "code",
   "execution_count": 9,
   "id": "d3d995e7",
   "metadata": {},
   "outputs": [
    {
     "data": {
      "image/png": "[encoded data removed]",
      "text/plain": [
       "<Figure size 640x480 with 1 Axes>"
      ]
     },
     "metadata": {},
     "output_type": "display_data"
    }
   ],
   "source": [
    "timepoint = 70 # for which timepoint should the spike histogram be plotted?\n",
    "\n",
    "t_start_stimulus = time_points_dict[\"T\"+ str(timepoint)+\"_s\"]\n",
    "t_stop_stimulus = time_points_dict[\"T\"+ str(timepoint)+\"_e\"]\n",
    "t_start_recover = time_points_dict[\"T\"+ str(timepoint+1)+\"_s\"]\n",
    "t_stop_recover = time_points_dict[\"T\"+ str(timepoint+off_time)+\"_e\"]\n",
    "orig = spike_histogram(Mv, t_start=t_start_stimulus, t_stop=t_stop_stimulus).T[1]\n",
    "recover = spike_histogram(Mv, t_start=t_start_recover, t_stop=t_stop_recover).T[1]\n",
    "\n",
    "fig, ax = plt.subplots()\n",
    "plt.imshow(np.row_stack((orig, recover)), aspect='auto', interpolation= \"None\")\n",
    "plt.yticks(np.linspace(0, 1, 2),[\"Original\", \"Recovered\"])\n",
    "plt.title(\"Spike histogram for timepoint \" + str(timepoint))\n",
    "ax.set_xticks([])\n",
    "plt.show()"
   ]
  },
  {
   "cell_type": "code",
   "execution_count": 18,
   "id": "29f609cd",
   "metadata": {},
   "outputs": [],
   "source": [
    "# Function to save the output of the SRBM simulation\n",
    "def save_output(unique = \"\", date = \"\"):\n",
    "    '''Saves the output of the SRBM simulation in a pickle file.'''\n",
    "    import pickle\n",
    "    k_v, v_v = zip(*Mv.spike_trains().items())\n",
    "    k_h, v_h = zip(*Mh.spike_trains().items())\n",
    "    output = {\"Mv\": {\"i\":np.array(Mv.i), \"t\":np.array(Mv.t), \n",
    "                     \"k\": k_v, \"v\": v_v}, \n",
    "              \"Mh\": {\"i\":np.array(Mh.i), \"t\":np.array(Mh.t), \n",
    "                     \"k\": k_h, \"v\": v_h},\n",
    "              \"time_test_on\":time_test_on,\n",
    "              \"time_test_off\":time_test_off,\n",
    "              \"Ids\":Ids,\n",
    "              \"timepoints\":timepoints,\n",
    "              \"t_sim\":t_sim,\n",
    "              \"time_points_dict\":time_points_dict,\n",
    "              \"W\":W,\n",
    "              \"b_v\":b_v,\n",
    "              \"b_c\":b_c,\n",
    "              \"b_h\":b_h,\n",
    "              \"mB\":mB,\n",
    "              \"Wvh\":Wvh,\n",
    "              \"Wch\":Wch,\n",
    "              \"mBv\":mBv,\n",
    "              \"mBh\":mBh,\n",
    "              \"sim_time\":sim_time,\n",
    "              \"N_v\":N_v,\n",
    "              \"N_c\":N_c,\n",
    "              \"N_h\":N_h,\n",
    "              \"beta_parameter\":beta_parameter,\n",
    "              \"tau_rec\":tau_rec,\n",
    "              \"dcmt\":dcmt,\n",
    "              \"off_time\":off_time,\n",
    "              \"n_seed_patterns\": n_seed_patterns,\n",
    "              \"n_prototype_per_seed\": n_prototype_per_seed,\n",
    "              \"n_variations_per_prototype\": n_variations_per_prototype, \n",
    "              \"after_split_n_per_prototype_train\": len(train_test_data[0][0]), \n",
    "              \"after_split_n_per_prototype_test\": len(train_test_data[1][0])}                                 \n",
    "    with open('output/'+unique+date+'.pkl', 'wb') as handle: # Python 3:\n",
    "        pickle.dump(output, handle, protocol=pickle.HIGHEST_PROTOCOL)\n",
    "    print(\"Output saved as output/\"+unique+date+\".pkl\")"
   ]
  },
  {
   "cell_type": "code",
   "execution_count": 19,
   "id": "1e866819",
   "metadata": {},
   "outputs": [
    {
     "name": "stdout",
     "output_type": "stream",
     "text": [
      "Output saved as output/output_10_base_1000_2023-05-18.pkl\n"
     ]
    }
   ],
   "source": [
    "# Save the output to open in the evaluation notebook\n",
    "save_output(unique = \"output_10_base_1000_\", date = date_str)"
   ]
  },
  {
   "cell_type": "code",
   "execution_count": null,
   "id": "186b00ab",
   "metadata": {},
   "outputs": [],
   "source": []
  }
 ],
 "metadata": {
  "kernelspec": {
   "display_name": "Python 3 (ipykernel)",
   "language": "python",
   "name": "python3"
  },
  "language_info": {
   "codemirror_mode": {
    "name": "ipython",
    "version": 3
   },
   "file_extension": ".py",
   "mimetype": "text/x-python",
   "name": "python",
   "nbconvert_exporter": "python",
   "pygments_lexer": "ipython3",
   "version": "3.9.15"
  },
  "toc-autonumbering": false,
  "toc-showmarkdowntxt": true
 },
 "nbformat": 4,
 "nbformat_minor": 5
}

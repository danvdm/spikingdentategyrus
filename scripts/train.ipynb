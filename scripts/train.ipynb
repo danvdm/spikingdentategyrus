{
 "cells": [
  {
   "attachments": {},
   "cell_type": "markdown",
   "id": "37162d17",
   "metadata": {},
   "source": [
    "### Main file"
   ]
  },
  {
   "cell_type": "code",
   "execution_count": 6,
   "id": "7781eafb",
   "metadata": {},
   "outputs": [],
   "source": [
    "import numpy as np \n",
    "from tools.srbm_experimental import *           # !!! Importing the experimental SRBM model !!!\n",
    "from tools.functions import *\n",
    "import matplotlib.pyplot as plt\n",
    "\n",
    "date_str = str(datetime.datetime.now())[0:10]\n",
    "date_time_str = str(datetime.datetime.now())[0:10]+\"_\"+str(datetime.datetime.now())[11:16]"
   ]
  },
  {
   "cell_type": "code",
   "execution_count": 7,
   "id": "d50c2c56",
   "metadata": {},
   "outputs": [
    {
     "name": "stdout",
     "output_type": "stream",
     "text": [
      "Data loaded from data/data_finnegan_0.1_0.05_5_200_1000.npy\n"
     ]
    }
   ],
   "source": [
    "'''Load data that has been generated with \"generate_data.py\".\n",
    "The file will be named according to the following pattern:  \n",
    "data + number of classes + variation in prototype + variation in prototype replications + length stimuli + n datapoints\n",
    "parameters in \"common_parameters.py\" need to be adjusted to fit the data. \n",
    "'''\n",
    "\n",
    "length_stimuli = 100\n",
    "num_classes = 5\n",
    "\n",
    "# Loading the data\n",
    "train_test_sequence_data = load_data(unique=\"finnegan_0.1_0.05_5_200_1000\")\n",
    "\n",
    "if length_stimuli != N_v or num_classes != n_classes:\n",
    "    print(\"The data does not fit the parameters in common_parameters.py. Please adjust the parameters in common_parameters.py to fit the data.\")"
   ]
  },
  {
   "cell_type": "code",
   "execution_count": 2,
   "id": "63c33106",
   "metadata": {},
   "outputs": [
    {
     "ename": "NameError",
     "evalue": "name 'get_data' is not defined",
     "output_type": "error",
     "traceback": [
      "\u001b[0;31m---------------------------------------------------------------------------\u001b[0m",
      "\u001b[0;31mNameError\u001b[0m                                 Traceback (most recent call last)",
      "Cell \u001b[0;32mIn[2], line 2\u001b[0m\n\u001b[1;32m      1\u001b[0m \u001b[39m# Preparing the data\u001b[39;00m\n\u001b[0;32m----> 2\u001b[0m sequence_data \u001b[39m=\u001b[39m get_data(n_samples\u001b[39m=\u001b[39mn_samples, min_p \u001b[39m=\u001b[39m \u001b[39m.00001\u001b[39m, max_p \u001b[39m=\u001b[39m \u001b[39m.98\u001b[39m, binary \u001b[39m=\u001b[39m \u001b[39mTrue\u001b[39;00m, seed\u001b[39m=\u001b[39m\u001b[39m0\u001b[39m, \n\u001b[1;32m      3\u001b[0m                            load_from_drive\u001b[39m=\u001b[39m\u001b[39mFalse\u001b[39;00m, data\u001b[39m=\u001b[39mtrain_test_sequence_data, num_classes \u001b[39m=\u001b[39m \u001b[39mrange\u001b[39m(n_classes))\n",
      "\u001b[0;31mNameError\u001b[0m: name 'get_data' is not defined"
     ]
    }
   ],
   "source": [
    "# Preparing the data\n",
    "sequence_data = get_data(n_samples=n_samples, min_p = .00001, max_p = .98, binary = True, seed=0, \n",
    "                           load_from_drive=False, data=train_test_sequence_data, num_classes = range(n_classes))"
   ]
  },
  {
   "cell_type": "code",
   "execution_count": 4,
   "id": "1e14ccd7",
   "metadata": {},
   "outputs": [],
   "source": [
    "# Create input current from data\n",
    "Id = create_Id(N_v=N_v, N_c=N_c, n_c_unit=n_c_unit, beta=beta_parameter, n_samples=n_samples, data = sequence_data)\n",
    "\n",
    "# Create the parameters for the SRBM\n",
    "W, b_v, b_c, b_h = create_rbm_parameters(N_v = N_v, N_c = N_c, N_h = N_h)"
   ]
  },
  {
   "cell_type": "code",
   "execution_count": 5,
   "id": "fd2afb1f",
   "metadata": {},
   "outputs": [
    {
     "name": "stderr",
     "output_type": "stream",
     "text": [
      "WARNING    Removing unsupported flag '-march=native' from compiler flags. [brian2.codegen.cpp_prefs]\n"
     ]
    },
    {
     "name": "stdout",
     "output_type": "stream",
     "text": [
      "Train accuracy: 0.2\n",
      "Test accuracy: 0.228\n",
      "Train accuracy: 0.25\n",
      "Test accuracy: 0.285\n",
      "Train accuracy: 0.165\n",
      "Test accuracy: 0.192\n",
      "Train accuracy: 0.165\n",
      "Test accuracy: 0.192\n",
      "Train accuracy: 0.165\n",
      "Test accuracy: 0.192\n",
      "Train accuracy: 0.165\n",
      "Test accuracy: 0.192\n",
      "Train accuracy: 0.245\n",
      "Test accuracy: 0.21\n",
      "Train accuracy: 0.365\n",
      "Test accuracy: 0.392\n",
      "Train accuracy: 0.22\n",
      "Test accuracy: 0.26\n",
      "Train accuracy: 0.59\n",
      "Test accuracy: 0.591\n",
      "Train accuracy: 0.51\n",
      "Test accuracy: 0.513\n",
      "Train accuracy: 0.435\n",
      "Test accuracy: 0.419\n",
      "Train accuracy: 0.38\n",
      "Test accuracy: 0.348\n",
      "Train accuracy: 0.2\n",
      "Test accuracy: 0.212\n",
      "Train accuracy: 0.43\n",
      "Test accuracy: 0.419\n",
      "Train accuracy: 0.435\n",
      "Test accuracy: 0.414\n",
      "Train accuracy: 0.225\n",
      "Test accuracy: 0.245\n",
      "Train accuracy: 0.21\n",
      "Test accuracy: 0.229\n",
      "Train accuracy: 0.205\n",
      "Test accuracy: 0.216\n",
      "Train accuracy: 0.33\n",
      "Test accuracy: 0.345\n",
      "Train accuracy: 0.52\n",
      "Test accuracy: 0.55\n",
      "Train accuracy: 0.59\n",
      "Test accuracy: 0.588\n",
      "Train accuracy: 0.305\n",
      "Test accuracy: 0.344\n",
      "Train accuracy: 0.78\n",
      "Test accuracy: 0.728\n",
      "Train accuracy: 0.775\n",
      "Test accuracy: 0.775\n",
      "Train accuracy: 0.73\n",
      "Test accuracy: 0.704\n",
      "Train accuracy: 0.765\n",
      "Test accuracy: 0.758\n",
      "Train accuracy: 0.685\n",
      "Test accuracy: 0.691\n",
      "Train accuracy: 0.82\n",
      "Test accuracy: 0.792\n",
      "Train accuracy: 0.825\n",
      "Test accuracy: 0.795\n",
      "Train accuracy: 0.825\n",
      "Test accuracy: 0.814\n",
      "Train accuracy: 0.96\n",
      "Test accuracy: 0.941\n",
      "Train accuracy: 0.995\n",
      "Test accuracy: 0.99\n",
      "Train accuracy: 0.995\n",
      "Test accuracy: 0.994\n",
      "Train accuracy: 0.995\n",
      "Test accuracy: 0.993\n",
      "Train accuracy: 1.0\n",
      "Test accuracy: 0.993\n",
      "Train accuracy: 1.0\n",
      "Test accuracy: 0.997\n",
      "Train accuracy: 1.0\n",
      "Test accuracy: 0.998\n",
      "Train accuracy: 1.0\n",
      "Test accuracy: 0.998\n",
      "Train accuracy: 1.0\n",
      "Test accuracy: 0.998\n",
      "37.0067777633667\n"
     ]
    }
   ],
   "source": [
    "# Run the model\n",
    "loc = main(W, b_v, b_c, b_h, Id = Id, dorun = True, monitors = True, mnist_data=sequence_data, n_classes = 5)\n",
    "locals().update(loc)"
   ]
  },
  {
   "cell_type": "code",
   "execution_count": 6,
   "id": "191d4402",
   "metadata": {},
   "outputs": [
    {
     "data": {
      "text/plain": [
       "<neurongroup_1.age: array([-0.76285742,  0.55272665, -0.14445119, -0.4419379 ,  0.84068506,\n",
       "        0.19650754, -0.52375259,  0.1946013 , -0.61210238,  0.535514  ,\n",
       "        0.44927026, -0.83686172, -0.46906013,  0.20925973, -0.30143464,\n",
       "       -0.36834548, -0.55525956, -0.55354283, -0.46152095,  0.03171202,\n",
       "       -0.04729484,  0.47848979, -0.50101362,  0.63549107,  0.5492098 ,\n",
       "        0.41702771,  0.59765821,  0.30913905, -0.91679657,  0.371201  ,\n",
       "        0.62145509,  0.55642819, -0.44178525,  0.72575576, -0.19565846,\n",
       "       -0.73838046, -0.21599644,  0.06167885, -0.35022281, -0.45918212,\n",
       "       -0.51821603,  0.7903359 ,  0.42400687,  0.32471299,  0.2931423 ,\n",
       "        0.69884306,  0.93092463, -0.61186725, -0.45581224,  0.08494413])>"
      ]
     },
     "execution_count": 6,
     "metadata": {},
     "output_type": "execute_result"
    }
   ],
   "source": [
    "neuron_group_rhidden.age"
   ]
  },
  {
   "cell_type": "code",
   "execution_count": 7,
   "id": "0269b849",
   "metadata": {},
   "outputs": [
    {
     "data": {
      "image/png": "[encoded data removed]",
      "text/plain": [
       "<Figure size 640x480 with 1 Axes>"
      ]
     },
     "metadata": {},
     "output_type": "display_data"
    }
   ],
   "source": [
    "plot(growth_factor_list)\n",
    "plt.show()\n"
   ]
  },
  {
   "cell_type": "code",
   "execution_count": 8,
   "id": "2586ddb1",
   "metadata": {},
   "outputs": [
    {
     "data": {
      "image/png": "[encoded data removed]",
      "text/plain": [
       "<Figure size 640x480 with 1 Axes>"
      ]
     },
     "metadata": {},
     "output_type": "display_data"
    }
   ],
   "source": [
    "plot(res_hist_test)\n",
    "plt.show()"
   ]
  },
  {
   "cell_type": "code",
   "execution_count": 9,
   "id": "8dcbbf2f",
   "metadata": {},
   "outputs": [],
   "source": [
    "# Prepare weights and biases\n",
    "\n",
    "W = np.array(Srs.w).reshape(N_v+N_c, N_h)*beta_parameter\n",
    "Wvh=W[:N_v,:]\n",
    "Wch=W[N_v:,:]\n",
    "mBv = np.array(Sbv.w)*beta_parameter*tau_rec*bias_input_rate\n",
    "mBh = np.array(Sbh.w)*beta_parameter*tau_rec*bias_input_rate\n",
    "b_c = mBv[N_v:(N_v+N_c)]\n",
    "b_v = mBv[:N_v]\n",
    "b_h = mBh\n",
    "mB = np.concatenate([mBv,mBh])"
   ]
  },
  {
   "cell_type": "code",
   "execution_count": 10,
   "id": "26b76708",
   "metadata": {},
   "outputs": [
    {
     "name": "stdout",
     "output_type": "stream",
     "text": [
      "Matrices saved to output/output/2023-04-25/10-48\n"
     ]
    }
   ],
   "source": [
    "# Save the weights and biases\n",
    "\n",
    "save_matrices(W, Wvh, Wch, mBv, mBh, b_c, b_v, b_h, mB, date_str, date_time_str)"
   ]
  },
  {
   "cell_type": "code",
   "execution_count": null,
   "id": "684ff9ba",
   "metadata": {},
   "outputs": [],
   "source": []
  }
 ],
 "metadata": {
  "kernelspec": {
   "display_name": "Python 3 (ipykernel)",
   "language": "python",
   "name": "python3"
  },
  "language_info": {
   "codemirror_mode": {
    "name": "ipython",
    "version": 3
   },
   "file_extension": ".py",
   "mimetype": "text/x-python",
   "name": "python",
   "nbconvert_exporter": "python",
   "pygments_lexer": "ipython3",
   "version": "3.9.15"
  },
  "toc-autonumbering": false,
  "toc-showmarkdowntxt": true
 },
 "nbformat": 4,
 "nbformat_minor": 5
}

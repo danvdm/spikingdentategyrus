{
 "cells": [
  {
   "attachments": {},
   "cell_type": "markdown",
   "id": "37162d17",
   "metadata": {},
   "source": [
    "### Main file"
   ]
  },
  {
   "cell_type": "code",
   "execution_count": 1,
   "id": "7781eafb",
   "metadata": {},
   "outputs": [
    {
     "name": "stderr",
     "output_type": "stream",
     "text": [
      "/opt/homebrew/Caskroom/miniconda/base/envs/jupyt-tf/lib/python3.9/site-packages/scipy/__init__.py:146: UserWarning: A NumPy version >=1.16.5 and <1.23.0 is required for this version of SciPy (detected version 1.23.2\n",
      "  warnings.warn(f\"A NumPy version >={np_minversion} and <{np_maxversion}\"\n"
     ]
    }
   ],
   "source": [
    "import numpy as np \n",
    "from tools.srbm import *           # !!! Importing the experimental SRBM model !!!\n",
    "from tools.functions import *\n",
    "import matplotlib.pyplot as plt\n",
    "\n",
    "date_str = str(datetime.datetime.now())[0:10]\n",
    "date_time_str = str(datetime.datetime.now())[0:10]+\"_\"+str(datetime.datetime.now())[11:16]"
   ]
  },
  {
   "cell_type": "code",
   "execution_count": 2,
   "id": "d50c2c56",
   "metadata": {},
   "outputs": [
    {
     "name": "stdout",
     "output_type": "stream",
     "text": [
      "Data loaded from data/data_finnegan_0.1_0.05_5_200_1000.npy\n",
      "The data does not fit the parameters in common_parameters.py. Please adjust the parameters in common_parameters.py to fit the data.\n"
     ]
    }
   ],
   "source": [
    "'''Load data that has been generated with \"generate_data.py\".\n",
    "The file will be named according to the following pattern:  \n",
    "data + number of classes + variation in prototype + variation in prototype replications + length stimuli + n datapoints\n",
    "parameters in \"common_parameters.py\" need to be adjusted to fit the data. \n",
    "'''\n",
    "\n",
    "length_stimuli = 100\n",
    "num_classes = 5\n",
    "\n",
    "# Loading the data\n",
    "train_test_sequence_data = load_data(unique=\"finnegan_0.1_0.05_5_200_1000\")\n",
    "\n",
    "if length_stimuli != N_v or num_classes != n_classes:\n",
    "    print(\"The data does not fit the parameters in common_parameters.py. Please adjust the parameters in common_parameters.py to fit the data.\")"
   ]
  },
  {
   "cell_type": "code",
   "execution_count": 3,
   "id": "63c33106",
   "metadata": {},
   "outputs": [],
   "source": [
    "# Preparing the data\n",
    "sequence_data = get_data(n_samples=n_samples, min_p = .00001, max_p = .98, binary = True, seed=0, \n",
    "                           load_from_drive=False, data=train_test_sequence_data, num_classes = range(n_classes))"
   ]
  },
  {
   "cell_type": "code",
   "execution_count": 4,
   "id": "1e14ccd7",
   "metadata": {},
   "outputs": [],
   "source": [
    "# Create input current from data\n",
    "Id = create_Id(N_v=N_v, N_c=N_c, n_c_unit=n_c_unit, beta=beta_parameter, n_samples=n_samples, data = sequence_data)\n",
    "\n",
    "# Create the parameters for the SRBM\n",
    "W, b_v, b_c, b_h = create_rbm_parameters(N_v = N_v, N_c = N_c, N_h = N_h)"
   ]
  },
  {
   "cell_type": "code",
   "execution_count": 5,
   "id": "fd2afb1f",
   "metadata": {},
   "outputs": [
    {
     "name": "stderr",
     "output_type": "stream",
     "text": [
      "WARNING    Removing unsupported flag '-march=native' from compiler flags. [brian2.codegen.cpp_prefs]\n"
     ]
    },
    {
     "name": "stdout",
     "output_type": "stream",
     "text": [
      "Train accuracy: 0.22\n",
      "Test accuracy: 0.205\n",
      "Train accuracy: 0.225\n",
      "Test accuracy: 0.205\n",
      "Train accuracy: 0.22\n",
      "Test accuracy: 0.205\n",
      "Train accuracy: 0.33\n",
      "Test accuracy: 0.405\n",
      "Train accuracy: 0.33\n",
      "Test accuracy: 0.385\n",
      "Train accuracy: 0.22\n",
      "Test accuracy: 0.205\n",
      "Train accuracy: 0.26\n",
      "Test accuracy: 0.305\n",
      "Train accuracy: 0.325\n",
      "Test accuracy: 0.39\n",
      "Train accuracy: 0.675\n",
      "Test accuracy: 0.675\n",
      "Train accuracy: 0.6\n",
      "Test accuracy: 0.635\n",
      "Train accuracy: 0.375\n",
      "Test accuracy: 0.445\n",
      "Train accuracy: 0.37\n",
      "Test accuracy: 0.45\n",
      "Train accuracy: 0.345\n",
      "Test accuracy: 0.39\n",
      "Train accuracy: 0.59\n",
      "Test accuracy: 0.62\n",
      "Train accuracy: 0.595\n",
      "Test accuracy: 0.64\n",
      "Train accuracy: 0.595\n",
      "Test accuracy: 0.64\n",
      "Train accuracy: 0.595\n",
      "Test accuracy: 0.64\n",
      "Train accuracy: 0.595\n",
      "Test accuracy: 0.64\n",
      "Train accuracy: 0.68\n",
      "Test accuracy: 0.7\n",
      "Train accuracy: 0.715\n",
      "Test accuracy: 0.72\n",
      "Train accuracy: 0.895\n",
      "Test accuracy: 0.895\n",
      "Train accuracy: 0.975\n",
      "Test accuracy: 0.995\n",
      "Train accuracy: 0.98\n",
      "Test accuracy: 0.99\n",
      "Train accuracy: 0.98\n",
      "Test accuracy: 0.99\n",
      "Train accuracy: 0.99\n",
      "Test accuracy: 0.985\n",
      "Train accuracy: 1.0\n",
      "Test accuracy: 0.995\n",
      "Train accuracy: 1.0\n",
      "Test accuracy: 1.0\n",
      "Train accuracy: 1.0\n",
      "Test accuracy: 1.0\n",
      "Train accuracy: 1.0\n",
      "Test accuracy: 1.0\n",
      "Train accuracy: 1.0\n",
      "Test accuracy: 1.0\n",
      "Train accuracy: 1.0\n",
      "Test accuracy: 1.0\n",
      "Train accuracy: 1.0\n",
      "Test accuracy: 1.0\n",
      "Train accuracy: 1.0\n",
      "Test accuracy: 1.0\n",
      "Train accuracy: 1.0\n",
      "Test accuracy: 1.0\n",
      "Train accuracy: 1.0\n",
      "Test accuracy: 1.0\n",
      "Train accuracy: 1.0\n",
      "Test accuracy: 1.0\n",
      "Train accuracy: 1.0\n",
      "Test accuracy: 1.0\n",
      "Train accuracy: 1.0\n",
      "Test accuracy: 1.0\n",
      "Train accuracy: 1.0\n",
      "Test accuracy: 1.0\n",
      "Train accuracy: 1.0\n",
      "Test accuracy: 1.0\n",
      "42.361512899398804\n"
     ]
    }
   ],
   "source": [
    "# Run the model\n",
    "loc = main(W, b_v, b_c, b_h, Id = Id, dorun = True, monitors = True, mnist_data=sequence_data, n_classes = 5)\n",
    "locals().update(loc)"
   ]
  },
  {
   "cell_type": "code",
   "execution_count": 13,
   "id": "191d4402",
   "metadata": {},
   "outputs": [
    {
     "data": {
      "text/plain": [
       "<neurongroup_1.age: array([-0.44489186, -0.98767356, -0.64799841,  0.15431465,  0.41846083,\n",
       "        0.2820457 , -0.68582759,  0.18870474,  0.16886565, -0.81884549,\n",
       "        0.96195841,  0.68660695,  0.55098092, -0.50716216,  0.02594993,\n",
       "        0.27759846, -0.595623  , -0.31445996, -0.15906994,  0.35687211,\n",
       "        0.11705589, -0.28633612, -0.62604975,  0.2224262 ,  0.11189966,\n",
       "       -0.63724321, -0.46495744, -0.50574184,  0.87800842, -0.75479577,\n",
       "        0.00271441,  0.23239666,  0.40190966,  0.72692358, -0.75823729,\n",
       "       -0.15698512, -0.87454619, -0.19932388, -0.31803923,  0.16083216,\n",
       "        0.74090952, -0.53710698,  0.5894596 ,  0.05673855,  0.16289076,\n",
       "       -0.9517002 ,  0.63325581, -0.09067106, -0.80724548,  0.48490228])>"
      ]
     },
     "execution_count": 13,
     "metadata": {},
     "output_type": "execute_result"
    }
   ],
   "source": [
    "neuron_group_rhidden.age"
   ]
  },
  {
   "cell_type": "code",
   "execution_count": 14,
   "id": "0269b849",
   "metadata": {},
   "outputs": [
    {
     "data": {
      "image/png": "[encoded data removed]",
      "text/plain": [
       "<Figure size 640x480 with 1 Axes>"
      ]
     },
     "metadata": {},
     "output_type": "display_data"
    }
   ],
   "source": [
    "plot(growth_factor_list)\n",
    "plt.show()\n"
   ]
  },
  {
   "cell_type": "code",
   "execution_count": 15,
   "id": "2586ddb1",
   "metadata": {},
   "outputs": [
    {
     "data": {
      "image/png": "[encoded data removed]",
      "text/plain": [
       "<Figure size 640x480 with 1 Axes>"
      ]
     },
     "metadata": {},
     "output_type": "display_data"
    }
   ],
   "source": [
    "plot(res_hist_test)\n",
    "plt.show()"
   ]
  },
  {
   "cell_type": "code",
   "execution_count": 16,
   "id": "8dcbbf2f",
   "metadata": {},
   "outputs": [],
   "source": [
    "# Prepare weights and biases\n",
    "\n",
    "W = np.array(Srs.w).reshape(N_v+N_c, N_h)*beta_parameter\n",
    "Wvh=W[:N_v,:]\n",
    "Wch=W[N_v:,:]\n",
    "mBv = np.array(Sbv.w)*beta_parameter*tau_rec*bias_input_rate\n",
    "mBh = np.array(Sbh.w)*beta_parameter*tau_rec*bias_input_rate\n",
    "b_c = mBv[N_v:(N_v+N_c)]\n",
    "b_v = mBv[:N_v]\n",
    "b_h = mBh\n",
    "mB = np.concatenate([mBv,mBh])"
   ]
  },
  {
   "cell_type": "code",
   "execution_count": 17,
   "id": "26b76708",
   "metadata": {},
   "outputs": [
    {
     "name": "stdout",
     "output_type": "stream",
     "text": [
      "Matrices saved to output/output/2023-04-28/18-04\n"
     ]
    }
   ],
   "source": [
    "# Save the weights and biases\n",
    "\n",
    "save_matrices(W, Wvh, Wch, mBv, mBh, b_c, b_v, b_h, mB, date_str, date_time_str)"
   ]
  },
  {
   "cell_type": "code",
   "execution_count": null,
   "id": "684ff9ba",
   "metadata": {},
   "outputs": [],
   "source": []
  }
 ],
 "metadata": {
  "kernelspec": {
   "display_name": "Python 3 (ipykernel)",
   "language": "python",
   "name": "python3"
  },
  "language_info": {
   "codemirror_mode": {
    "name": "ipython",
    "version": 3
   },
   "file_extension": ".py",
   "mimetype": "text/x-python",
   "name": "python",
   "nbconvert_exporter": "python",
   "pygments_lexer": "ipython3",
   "version": "3.9.15"
  },
  "toc-autonumbering": false,
  "toc-showmarkdowntxt": true
 },
 "nbformat": 4,
 "nbformat_minor": 5
}

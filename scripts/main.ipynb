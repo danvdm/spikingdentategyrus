{
 "cells": [
  {
   "attachments": {},
   "cell_type": "markdown",
   "id": "37162d17",
   "metadata": {},
   "source": [
    "### Main file"
   ]
  },
  {
   "cell_type": "code",
   "execution_count": 1,
   "id": "7781eafb",
   "metadata": {},
   "outputs": [],
   "source": [
    "from tools.helpers import *\n",
    "from tools.srbm import *\n",
    "from tools.parameters import *\n",
    "from brian2 import *\n",
    "from brian2tools import *\n",
    "import numpy as np\n",
    "import matplotlib.pyplot as plt"
   ]
  },
  {
   "cell_type": "code",
   "execution_count": 3,
   "id": "1e14ccd7",
   "metadata": {},
   "outputs": [
    {
     "name": "stdout",
     "output_type": "stream",
     "text": [
      "Creating equation\n",
      "Creating Population\n"
     ]
    }
   ],
   "source": [
    "# ! deactivated the long taking part - needs reactivation !\n",
    "\n",
    "Id = create_Id()\n",
    "W, b_v, b_c, b_h = create_rbm_parameters()\n",
    "mnist_data = load_mnist_data(min_p = .00001, max_p = .98, binary = True, seed=0)\n",
    "loc = main(W, b_v, b_c, b_h, Id =create_Id(), monitors = True, mnist_data=mnist_data)\n",
    "locals().update(loc)"
   ]
  },
  {
   "cell_type": "code",
   "execution_count": null,
   "id": "69b83633",
   "metadata": {},
   "outputs": [],
   "source": []
  }
 ],
 "metadata": {
  "kernelspec": {
   "display_name": "Python 3 (ipykernel)",
   "language": "python",
   "name": "python3"
  },
  "language_info": {
   "codemirror_mode": {
    "name": "ipython",
    "version": 3
   },
   "file_extension": ".py",
   "mimetype": "text/x-python",
   "name": "python",
   "nbconvert_exporter": "python",
   "pygments_lexer": "ipython3",
   "version": "3.9.15"
  },
  "toc-autonumbering": false,
  "toc-showmarkdowntxt": true
 },
 "nbformat": 4,
 "nbformat_minor": 5
}

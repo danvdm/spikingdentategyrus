{
 "cells": [
  {
   "attachments": {},
   "cell_type": "markdown",
   "id": "37162d17",
   "metadata": {},
   "source": [
    "### Main file"
   ]
  },
  {
   "cell_type": "code",
   "execution_count": 8,
   "id": "7781eafb",
   "metadata": {},
   "outputs": [],
   "source": [
    "import numpy as np \n",
    "from tools.srbm_experimental import *           # !!! Importing the experimental SRBM model !!!\n",
    "from tools.functions import *\n",
    "import matplotlib.pyplot as plt\n",
    "\n",
    "date_str = str(datetime.datetime.now())[0:10]\n",
    "date_time_str = str(datetime.datetime.now())[0:10]+\"_\"+str(datetime.datetime.now())[11:16]"
   ]
  },
  {
   "cell_type": "code",
   "execution_count": 9,
   "id": "d50c2c56",
   "metadata": {},
   "outputs": [
    {
     "ename": "NameError",
     "evalue": "name 'load_data' is not defined",
     "output_type": "error",
     "traceback": [
      "\u001b[0;31m---------------------------------------------------------------------------\u001b[0m",
      "\u001b[0;31mNameError\u001b[0m                                 Traceback (most recent call last)",
      "Cell \u001b[0;32mIn[9], line 1\u001b[0m\n\u001b[0;32m----> 1\u001b[0m train_test_sequence_data \u001b[39m=\u001b[39m load_data(len_stimuli \u001b[39m=\u001b[39m \u001b[39m100\u001b[39m, \n\u001b[1;32m      2\u001b[0m                                      n_obs \u001b[39m=\u001b[39m \u001b[39m4000\u001b[39m, \n\u001b[1;32m      3\u001b[0m                                      n_classes \u001b[39m=\u001b[39m \u001b[39m5\u001b[39m, \n\u001b[1;32m      4\u001b[0m                                      var_prot \u001b[39m=\u001b[39m \u001b[39m0.1\u001b[39m,\n\u001b[1;32m      5\u001b[0m                                      repl_var \u001b[39m=\u001b[39m \u001b[39m0.1\u001b[39m)\n",
      "\u001b[0;31mNameError\u001b[0m: name 'load_data' is not defined"
     ]
    }
   ],
   "source": [
    "train_test_sequence_data = load_data(len_stimuli = 100, \n",
    "                                     n_obs = 4000, \n",
    "                                     n_classes = 5, \n",
    "                                     var_prot = 0.1,\n",
    "                                     repl_var = 0.1)"
   ]
  },
  {
   "cell_type": "code",
   "execution_count": 7,
   "id": "8a5b7d65",
   "metadata": {},
   "outputs": [
    {
     "ename": "NameError",
     "evalue": "name 'train_test_sequence_data' is not defined",
     "output_type": "error",
     "traceback": [
      "\u001b[0;31m---------------------------------------------------------------------------\u001b[0m",
      "\u001b[0;31mNameError\u001b[0m                                 Traceback (most recent call last)",
      "Cell \u001b[0;32mIn[7], line 4\u001b[0m\n\u001b[1;32m      1\u001b[0m n_classes\n\u001b[1;32m      3\u001b[0m sequence_data \u001b[39m=\u001b[39m load_MNIST(n_samples\u001b[39m=\u001b[39mn_samples, min_p \u001b[39m=\u001b[39m \u001b[39m.00001\u001b[39m, max_p \u001b[39m=\u001b[39m \u001b[39m.98\u001b[39m, binary \u001b[39m=\u001b[39m \u001b[39mTrue\u001b[39;00m, seed\u001b[39m=\u001b[39m\u001b[39m0\u001b[39m, \n\u001b[0;32m----> 4\u001b[0m                            load_from_drive\u001b[39m=\u001b[39m\u001b[39mFalse\u001b[39;00m, data\u001b[39m=\u001b[39mtrain_test_sequence_data, num_classes \u001b[39m=\u001b[39m \u001b[39mrange\u001b[39m(n_classes))\n",
      "\u001b[0;31mNameError\u001b[0m: name 'train_test_sequence_data' is not defined"
     ]
    }
   ],
   "source": [
    "n_classes\n",
    "\n",
    "sequence_data = load_MNIST(n_samples=n_samples, min_p = .00001, max_p = .98, binary = True, seed=0, \n",
    "                           load_from_drive=False, data=train_test_sequence_data, num_classes = range(n_classes))\n"
   ]
  },
  {
   "cell_type": "code",
   "execution_count": 6,
   "id": "ea76f202",
   "metadata": {},
   "outputs": [
    {
     "ename": "NameError",
     "evalue": "name 'sequence_data' is not defined",
     "output_type": "error",
     "traceback": [
      "\u001b[0;31m---------------------------------------------------------------------------\u001b[0m",
      "\u001b[0;31mNameError\u001b[0m                                 Traceback (most recent call last)",
      "Cell \u001b[0;32mIn[6], line 1\u001b[0m\n\u001b[0;32m----> 1\u001b[0m \u001b[39mprint\u001b[39m(\u001b[39mlen\u001b[39m(sequence_data))\n\u001b[1;32m      2\u001b[0m \u001b[39mprint\u001b[39m(sequence_data[\u001b[39m0\u001b[39m]\u001b[39m.\u001b[39mshape)\n\u001b[1;32m      3\u001b[0m \u001b[39mprint\u001b[39m(sequence_data[\u001b[39m1\u001b[39m]\u001b[39m.\u001b[39mshape)\n",
      "\u001b[0;31mNameError\u001b[0m: name 'sequence_data' is not defined"
     ]
    }
   ],
   "source": [
    "print(len(sequence_data))\n",
    "print(sequence_data[0].shape)\n",
    "print(sequence_data[1].shape)\n",
    "print(sequence_data[2].shape)\n",
    "print(sequence_data[3].shape)\n",
    "print(sequence_data[4].shape)\n",
    "print(sequence_data[5].shape)\n",
    "print(np.unique(sequence_data[1], return_counts=True))\n",
    "imshow(sequence_data[0][sequence_data[1] == 0].reshape(len(sequence_data[1][sequence_data[1] == 0]),100), cmap='gray')\n",
    "\n"
   ]
  },
  {
   "cell_type": "code",
   "execution_count": 17,
   "id": "1e14ccd7",
   "metadata": {},
   "outputs": [],
   "source": [
    "Id = create_Id(N_v=N_v, N_c=N_c, n_c_unit=n_c_unit, beta=beta_parameter, n_samples=n_samples, data = sequence_data)\n",
    "W, b_v, b_c, b_h = create_rbm_parameters(N_v = N_v, N_c = N_c, N_h = N_h)"
   ]
  },
  {
   "cell_type": "code",
   "execution_count": 6,
   "id": "fd2afb1f",
   "metadata": {},
   "outputs": [
    {
     "name": "stderr",
     "output_type": "stream",
     "text": [
      "WARNING    Removing unsupported flag '-march=native' from compiler flags. [brian2.codegen.cpp_prefs]\n"
     ]
    },
    {
     "name": "stdout",
     "output_type": "stream",
     "text": [
      "Train accuracy: 0.17\n",
      "Test accuracy: 0.16\n",
      "Train accuracy: 0.225\n",
      "Test accuracy: 0.23\n",
      "Train accuracy: 0.225\n",
      "Test accuracy: 0.23\n",
      "Train accuracy: 0.225\n",
      "Test accuracy: 0.23\n",
      "Train accuracy: 0.225\n",
      "Test accuracy: 0.23\n",
      "Train accuracy: 0.225\n",
      "Test accuracy: 0.23\n",
      "Train accuracy: 0.245\n",
      "Test accuracy: 0.23\n",
      "Train accuracy: 0.225\n",
      "Test accuracy: 0.23\n",
      "Train accuracy: 0.275\n",
      "Test accuracy: 0.26\n",
      "Train accuracy: 0.41\n",
      "Test accuracy: 0.34\n",
      "Train accuracy: 0.28\n",
      "Test accuracy: 0.27\n",
      "Train accuracy: 0.49\n",
      "Test accuracy: 0.44\n",
      "Train accuracy: 0.39\n",
      "Test accuracy: 0.44\n",
      "Train accuracy: 0.54\n",
      "Test accuracy: 0.5\n",
      "Train accuracy: 0.77\n",
      "Test accuracy: 0.79\n",
      "Train accuracy: 0.575\n",
      "Test accuracy: 0.67\n",
      "Train accuracy: 0.645\n",
      "Test accuracy: 0.76\n",
      "Train accuracy: 0.775\n",
      "Test accuracy: 0.84\n",
      "Train accuracy: 0.55\n",
      "Test accuracy: 0.6\n",
      "Train accuracy: 0.86\n",
      "Test accuracy: 0.82\n",
      "17.851602792739868\n"
     ]
    }
   ],
   "source": [
    "loc = main(W, b_v, b_c, b_h, Id = Id, dorun = True, monitors = True, mnist_data=sequence_data, n_classes = 5) # changed from create_Id to Id"
   ]
  },
  {
   "cell_type": "code",
   "execution_count": 7,
   "id": "c106a1b5",
   "metadata": {},
   "outputs": [],
   "source": [
    "locals().update(loc)"
   ]
  },
  {
   "cell_type": "code",
   "execution_count": 8,
   "id": "191d4402",
   "metadata": {},
   "outputs": [
    {
     "data": {
      "text/plain": [
       "<neurongroup_1.age: array([ 0.93566348, -0.68218216, -0.59366479,  0.96423437, -0.69624505,\n",
       "        0.06940838, -0.67994398, -0.93571042,  0.63154289, -0.25999616,\n",
       "        0.35546148,  0.51479437, -0.0773527 , -0.98294758, -0.56541739,\n",
       "       -0.68557183,  0.36713137, -0.48216074,  0.1561846 , -0.9370171 ,\n",
       "        0.99590208, -0.92448794, -0.24374157,  0.66130654,  0.71795568,\n",
       "        0.8711841 ,  0.70100345, -0.79142434,  0.44229594,  0.57403179,\n",
       "       -0.62642243,  0.9140244 , -0.31259098,  0.13201454, -0.66035425,\n",
       "       -0.27327251,  0.70678425,  0.51362107,  0.8939762 , -0.696991  ,\n",
       "        0.59184319, -0.41779693,  0.62181634, -0.97680045, -0.92689633,\n",
       "        0.31962849,  0.32012503, -0.13502623, -0.53661411, -0.53658769])>"
      ]
     },
     "execution_count": 8,
     "metadata": {},
     "output_type": "execute_result"
    }
   ],
   "source": [
    "neuron_group_rhidden.age"
   ]
  },
  {
   "cell_type": "code",
   "execution_count": 9,
   "id": "0269b849",
   "metadata": {},
   "outputs": [
    {
     "data": {
      "image/png": "[encoded data removed]",
      "text/plain": [
       "<Figure size 640x480 with 1 Axes>"
      ]
     },
     "metadata": {},
     "output_type": "display_data"
    }
   ],
   "source": [
    "plot(growth_factor_list)\n",
    "plt.show()\n"
   ]
  },
  {
   "cell_type": "code",
   "execution_count": 10,
   "id": "2586ddb1",
   "metadata": {},
   "outputs": [
    {
     "data": {
      "image/png": "[encoded data removed]",
      "text/plain": [
       "<Figure size 640x480 with 1 Axes>"
      ]
     },
     "metadata": {},
     "output_type": "display_data"
    }
   ],
   "source": [
    "plot(res_hist_test)\n",
    "plt.show()"
   ]
  },
  {
   "cell_type": "code",
   "execution_count": 11,
   "id": "8dcbbf2f",
   "metadata": {},
   "outputs": [],
   "source": [
    "# Why does beta get replaced by the numpy function??\n",
    "W = np.array(Srs.w).reshape(N_v+N_c, N_h)*beta_parameter\n",
    "Wvh=W[:N_v,:]\n",
    "Wch=W[N_v:,:]\n",
    "mBv = np.array(Sbv.w)*beta_parameter*tau_rec*bias_input_rate\n",
    "mBh = np.array(Sbh.w)*beta_parameter*tau_rec*bias_input_rate\n",
    "b_c = mBv[N_v:(N_v+N_c)]\n",
    "b_v = mBv[:N_v]\n",
    "b_h = mBh\n",
    "mB = np.concatenate([mBv,mBh])"
   ]
  },
  {
   "cell_type": "code",
   "execution_count": 12,
   "id": "26b76708",
   "metadata": {},
   "outputs": [
    {
     "name": "stdout",
     "output_type": "stream",
     "text": [
      "Matrices saved to output/output/2023-04-19/14-40\n"
     ]
    }
   ],
   "source": [
    "save_matrices(W, Wvh, Wch, mBv, mBh, b_c, b_v, b_h, mB, date_str, date_time_str)"
   ]
  },
  {
   "cell_type": "code",
   "execution_count": null,
   "id": "58be8530",
   "metadata": {},
   "outputs": [],
   "source": []
  }
 ],
 "metadata": {
  "kernelspec": {
   "display_name": "Python 3 (ipykernel)",
   "language": "python",
   "name": "python3"
  },
  "language_info": {
   "codemirror_mode": {
    "name": "ipython",
    "version": 3
   },
   "file_extension": ".py",
   "mimetype": "text/x-python",
   "name": "python",
   "nbconvert_exporter": "python",
   "pygments_lexer": "ipython3",
   "version": "3.9.15"
  },
  "toc-autonumbering": false,
  "toc-showmarkdowntxt": true
 },
 "nbformat": 4,
 "nbformat_minor": 5
}

{
 "cells": [
  {
   "attachments": {},
   "cell_type": "markdown",
   "id": "37162d17",
   "metadata": {},
   "source": [
    "### Main file"
   ]
  },
  {
   "cell_type": "code",
   "execution_count": 6,
   "id": "7781eafb",
   "metadata": {},
   "outputs": [],
   "source": [
    "from functions.helpers import *\n",
    "from brian2 import *\n",
    "from brian2tools import *\n",
    "import numpy as np\n",
    "import matplotlib.pyplot as plt"
   ]
  },
  {
   "attachments": {},
   "cell_type": "markdown",
   "id": "720b1c82",
   "metadata": {},
   "source": [
    "Parameters: "
   ]
  },
  {
   "cell_type": "code",
   "execution_count": null,
   "id": "7b0725bf",
   "metadata": {},
   "outputs": [],
   "source": [
    "n_classes = 10                          # number of classes\n",
    "N_v = N_inputs =784                     # number of input neurons\n",
    "N_c = N_class = 40                      # number of class neurons\n",
    "N_h = N_hidden =500                     # number of hidden neurons\n",
    "\n",
    "n_c_unit =  N_c/n_classes               # number of class neurons per class\n",
    "\n",
    "dcmt = 35                               # duty cyle in multiples of t_ref\n",
    "\n",
    "#----------------------------------------- Neuron parameters\n",
    "t_ref = 0.004 * second                  # refractory period ?\n",
    "t_sim = dcmt*t_ref*10000                # simulation time ?\n",
    "bias_input_rate = 1000. * Hz            # input rate ?\n",
    "beta = 2.04371561e+09 # 1/amp \n",
    "gamma = np.exp(9.08343441e+00)* Hz\n",
    "tau_noise = .001 * ms                   # noise time constant ?\n",
    "tau_rec = t_ref                         # recovery time constant ?\n",
    "theta = .1 * volt  \n",
    "Cm = 1e-12 * farad                      # membrane capacitance ? \n",
    "beta_fi = 1./cm/theta                   # beta for F-I curve  ??\n",
    "sigma = 1.e-9 * amp                     # noise amplitude --> If this is used within the equations, it is faster than with the one below which was originally used\n",
    "cal_i_lk = 0.0e-10                      # leak current\n",
    "g_leak = 1e-9 * siemens                 # leak conductance\n",
    "# dt = 0.00005 * second                 # time step --> Not necessary anymore \n",
    "n_samples = t_sim/(dcmt*t_ref)+1        # number of samples\n",
    "# sigma = 4.24e-11 * amp                # This the reason why its slow. Originally wnsigma for equations\n",
    "\n",
    "t_burn_percent = 10.                    # percentage of burn-in time\n",
    "tau_learn = t_ref                       \n",
    "\n",
    "deltaT = ((0.49-t_burn_percent/100)*dcmt*t_ref)\n",
    "\n",
    "eta = 32e-3                             # learning rate ?\n",
    "epsilon = eta/beta*t_ref**2 \n",
    "epsilon_bias = eta/beta*t_ref*(1./bias_input_rate)\n",
    "\n",
    "deltaA  = eta/beta/tau_learn/deltaT*t_ref**2/2\n",
    "deltaAbias = eta/beta/tau_learn/deltaT*t_ref*(1./bias_input_rate)/2 \n",
    "\n",
    "i_inj = (- np.log(float(gamma))\n",
    "         - np.log(float(t_ref))\n",
    "         )/beta * amp                   # injected current ?\n",
    "\n",
    "#defaultclock.dt = dt                   # Not necessary anymore"
   ]
  },
  {
   "attachments": {},
   "cell_type": "markdown",
   "id": "0b2cb263",
   "metadata": {},
   "source": [
    "#### Equations for Leaky integrate and fire neurons: "
   ]
  },
  {
   "cell_type": "code",
   "execution_count": null,
   "id": "8b737fae",
   "metadata": {},
   "outputs": [],
   "source": [
    "eqs_str_lif_wnrd = '''        \n",
    "dv/dt = (-g_leak*v + i_inj + I_rec + sigma*xi*t_ref**0.5 + I_d)/Cm :volt\n",
    "dI_rec/dt = -I_rec/tau_rec : amp\n",
    "I_d : amp\n",
    "'''\n",
    "\n",
    "eqs_str_lif_wnr = ''' \n",
    "dv/dt = (-g_leak*v + i_inj + I_rec + sigma*xi*t_ref**0.5)/Cm :volt\n",
    "dI_rec/dt = -I_rec/tau_rec : amp\n",
    "'''"
   ]
  },
  {
   "attachments": {},
   "cell_type": "markdown",
   "id": "a322bf4b",
   "metadata": {},
   "source": [
    "Main part..."
   ]
  },
  {
   "cell_type": "code",
   "execution_count": null,
   "id": "1e14ccd7",
   "metadata": {},
   "outputs": [],
   "source": []
  }
 ],
 "metadata": {
  "kernelspec": {
   "display_name": "Python 3 (ipykernel)",
   "language": "python",
   "name": "python3"
  },
  "language_info": {
   "codemirror_mode": {
    "name": "ipython",
    "version": 3
   },
   "file_extension": ".py",
   "mimetype": "text/x-python",
   "name": "python",
   "nbconvert_exporter": "python",
   "pygments_lexer": "ipython3",
   "version": "3.9.15"
  },
  "toc-autonumbering": false,
  "toc-showmarkdowntxt": true
 },
 "nbformat": 4,
 "nbformat_minor": 5
}

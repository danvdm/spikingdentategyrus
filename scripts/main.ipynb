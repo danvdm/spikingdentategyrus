{
 "cells": [
  {
   "attachments": {},
   "cell_type": "markdown",
   "id": "37162d17",
   "metadata": {},
   "source": [
    "### Main file"
   ]
  },
  {
   "cell_type": "code",
   "execution_count": 1,
   "id": "7781eafb",
   "metadata": {},
   "outputs": [
    {
     "name": "stderr",
     "output_type": "stream",
     "text": [
      "/opt/homebrew/Caskroom/miniconda/base/envs/jupyt-tf/lib/python3.9/site-packages/scipy/__init__.py:146: UserWarning: A NumPy version >=1.16.5 and <1.23.0 is required for this version of SciPy (detected version 1.23.2\n",
      "  warnings.warn(f\"A NumPy version >={np_minversion} and <{np_maxversion}\"\n"
     ]
    }
   ],
   "source": [
    "import numpy as np \n",
    "from tools.srbm import *           # !!! Importing the experimental SRBM model !!!\n",
    "from tools.functions import *\n",
    "import matplotlib.pyplot as plt\n",
    "from brian2tools import *\n",
    "\n",
    "date_str = str(datetime.datetime.now())[0:10]\n",
    "date_time_str = str(datetime.datetime.now())[0:10]+\"_\"+str(datetime.datetime.now())[11:16]\n"
   ]
  },
  {
   "cell_type": "code",
   "execution_count": 2,
   "id": "60533afd",
   "metadata": {},
   "outputs": [
    {
     "name": "stdout",
     "output_type": "stream",
     "text": [
      "Data loaded from data/data_finnegan_0.1_0.05_5_200_50.npy\n",
      "Hamming distance between prototype 0, 1 and prototype 0, 0 : 20.0\n",
      "Percent match between prototype 0, 1 and prototype 0, 0 : 0.9\n"
     ]
    }
   ],
   "source": [
    "# Some parameters for training the SRBM - the others are in paramters_main.py\n",
    "\n",
    "t_ref = 0.004 * second\n",
    "dcmt = 35\n",
    "T = dcmt*t_ref\n",
    "init_delay=dcmt*t_ref\n",
    "delay=0*ms\n",
    "\n",
    "n_samples = 1000\n",
    "\n",
    "# Loading the data\n",
    "data_finnegan = load_data(\"data_finnegan_0.1_0.05_5_200_50\")\n",
    "\n",
    "train_test_data = train_test_split_finnegan(data_finnegan, 0.9)\n",
    "\n",
    "\n",
    "prototype_class_1 = 0\n",
    "sub_class_1 = 1\n",
    "prototype_class_2 = 0\n",
    "sub_class_2 = 0\n",
    "\n",
    "a = train_test_data[0][prototype_class_1, sub_class_1]\n",
    "b = train_test_data[0][prototype_class_2, sub_class_2]\n",
    "print(\"Hamming distance between prototype \", str(prototype_class_1), \", \", str(sub_class_1), \n",
    "      \" and prototype \" , str(prototype_class_2), \", \", str(sub_class_2), \" : \", round(calculate_hamming_distance(a, b), 2), sep=\"\")\n",
    "print(\"Percent match between prototype \", str(prototype_class_1), \", \", str(sub_class_1), \n",
    "      \" and prototype \" , str(prototype_class_2), \", \", str(sub_class_2), \" : \", round(calculate_percent_match(a, b), 2), sep=\"\")"
   ]
  },
  {
   "cell_type": "code",
   "execution_count": 5,
   "id": "e2afe629",
   "metadata": {},
   "outputs": [
    {
     "ename": "NameError",
     "evalue": "name 'first_batch_train' is not defined",
     "output_type": "error",
     "traceback": [
      "\u001b[0;31m---------------------------------------------------------------------------\u001b[0m",
      "\u001b[0;31mNameError\u001b[0m                                 Traceback (most recent call last)",
      "Cell \u001b[0;32mIn[5], line 1\u001b[0m\n\u001b[0;32m----> 1\u001b[0m Ids, time_test_on, time_test_off \u001b[39m=\u001b[39m create_finnegan_Ids(train_test_data, off_time \u001b[39m=\u001b[39;49m \u001b[39m1\u001b[39;49m)\n",
      "File \u001b[0;32m~/Documents/Arbeit/Uni/Thesis/spikingdentategyrus/scripts/tools/functions.py:489\u001b[0m, in \u001b[0;36mcreate_finnegan_Ids\u001b[0;34m(train_test_data_finnegan, off_time, n_per_prototype, n_main_classes)\u001b[0m\n\u001b[1;32m    486\u001b[0m time_train_total \u001b[39m=\u001b[39m time_train\n\u001b[1;32m    488\u001b[0m batch_idx \u001b[39m=\u001b[39m np\u001b[39m.\u001b[39marange(\u001b[39m0\u001b[39m, num_prototypes, n_per_prototype)\n\u001b[0;32m--> 489\u001b[0m batch_train \u001b[39m=\u001b[39m np\u001b[39m.\u001b[39mconcatenate(train_test_data_finnegan[\u001b[39m0\u001b[39m][batch_idx])[np\u001b[39m.\u001b[39mrandom\u001b[39m.\u001b[39mchoice(np\u001b[39m.\u001b[39marange(\u001b[39m0\u001b[39m, np\u001b[39m.\u001b[39mconcatenate(first_batch_train)\u001b[39m.\u001b[39mshape[\u001b[39m0\u001b[39m]), np\u001b[39m.\u001b[39mconcatenate(first_batch_train)\u001b[39m.\u001b[39mshape[\u001b[39m0\u001b[39m], replace\u001b[39m=\u001b[39m\u001b[39mFalse\u001b[39;00m)]\n\u001b[1;32m    490\u001b[0m batch_test \u001b[39m=\u001b[39m  np\u001b[39m.\u001b[39mconcatenate(train_test_data_finnegan[\u001b[39m1\u001b[39m][batch_idx])\n\u001b[1;32m    491\u001b[0m Ids_train \u001b[39m=\u001b[39m clamped_input_transform(batch_train, min_p \u001b[39m=\u001b[39m \u001b[39m1e-4\u001b[39m, max_p \u001b[39m=\u001b[39m \u001b[39m.95\u001b[39m)\n",
      "\u001b[0;31mNameError\u001b[0m: name 'first_batch_train' is not defined"
     ]
    }
   ],
   "source": [
    "Ids, time_test_on, time_test_off = create_finnegan_Ids(train_test_data, off_time = 1)"
   ]
  },
  {
   "cell_type": "code",
   "execution_count": 391,
   "id": "088e3543",
   "metadata": {},
   "outputs": [],
   "source": [
    "# Create the parameters for the SRBM\n",
    "W, b_v, b_c, b_h = create_rbm_parameters(N_v = N_v, N_c = N_c, N_h = N_h)\n",
    "\n",
    "# Create timepoints for classificaiton\n",
    "# One timepoint for each input pattern. Starts with timepoint 1\n",
    "timepoints, t_sim, time_points_dict = create_timepoints(Ids, init_delay, delay, T)\n",
    "\n",
    "sim_time = t_sim / (dcmt*t_ref)"
   ]
  },
  {
   "cell_type": "code",
   "execution_count": 392,
   "id": "df72c2d9",
   "metadata": {},
   "outputs": [
    {
     "name": "stdout",
     "output_type": "stream",
     "text": [
      "179.64410996437073\n"
     ]
    }
   ],
   "source": [
    "# SRBM main function\n",
    "\n",
    "out = main(W, b_v, b_c, b_h, Id = Ids, sim_time = sim_time, t_sim = t_sim, dorun = True, n_classes = 5, \n",
    "            monitors = True, display=False) # set display to false if no lables are used \n",
    "Mh, Mv, Mc= out['Mh'], out['Mv'], out['Mc']\n",
    "locals().update(out)"
   ]
  },
  {
   "cell_type": "code",
   "execution_count": 393,
   "id": "336ef71a",
   "metadata": {},
   "outputs": [],
   "source": [
    "# Prepare weights and biases\n",
    "W = np.array(Srs.w).reshape(N_v+N_c, N_h)*beta_parameter\n",
    "Wvh=W[:N_v,:]\n",
    "Wch=W[N_v:,:]\n",
    "mBv = np.array(Sbv.w)*beta_parameter*tau_rec*bias_input_rate\n",
    "mBh = np.array(Sbh.w)*beta_parameter*tau_rec*bias_input_rate\n",
    "b_c = mBv[N_v:(N_v+N_c)]\n",
    "b_v = mBv[:N_v]\n",
    "b_h = mBh\n",
    "mB = np.concatenate([mBv,mBh])"
   ]
  },
  {
   "cell_type": "code",
   "execution_count": 439,
   "id": "d3d995e7",
   "metadata": {},
   "outputs": [
    {
     "data": {
      "text/plain": [
       "<matplotlib.image.AxesImage at 0x287464820>"
      ]
     },
     "execution_count": 439,
     "metadata": {},
     "output_type": "execute_result"
    },
    {
     "data": {
      "image/png": "[encoded data removed]",
      "text/plain": [
       "<Figure size 640x480 with 1 Axes>"
      ]
     },
     "metadata": {},
     "output_type": "display_data"
    }
   ],
   "source": [
    "\n",
    "spike_monitor = Mv\n",
    "off_time = 1\n",
    "\n",
    "i = timepoint = 1099\n",
    "\n",
    "t_start_stimulus = time_points_dict[\"T\"+ str(i)+\"_s\"]\n",
    "t_stop_stimulus = time_points_dict[\"T\"+ str(i)+\"_e\"]\n",
    "t_start_recover = time_points_dict[\"T\"+ str(i+1)+\"_s\"]\n",
    "t_stop_recover = time_points_dict[\"T\"+ str(i+off_time)+\"_e\"]\n",
    "orig = spike_histogram(spike_monitor, t_start=t_start_stimulus, t_stop=t_stop_stimulus).T[1]\n",
    "recover = spike_histogram(spike_monitor, t_start=t_start_recover, t_stop=t_stop_recover).T[1]\n",
    "\n",
    "imshow(np.row_stack((np.repeat(orig, 10).reshape(200, 10).T, np.repeat(recover, 10).reshape(200, 10).T)))"
   ]
  },
  {
   "cell_type": "code",
   "execution_count": 401,
   "id": "4df40db5",
   "metadata": {},
   "outputs": [],
   "source": [
    "# This calculates the hamming distances and percent match for all test patterns. \n",
    "# It uses the spike moitor ant the timepoints where the stimuli are presented\n",
    "\n",
    "off_time = 1 # How many stimulus periods are used for recoverey period histogram\n",
    "\n",
    "hamming_distances, percent_match, originals, recovered = hamming_distances_test(Mv, time_test_on, time_points_dict, off_time=off_time)"
   ]
  },
  {
   "cell_type": "code",
   "execution_count": 455,
   "id": "a49fc3c2",
   "metadata": {},
   "outputs": [
    {
     "data": {
      "image/png": "[encoded data removed]",
      "text/plain": [
       "<Figure size 640x480 with 1 Axes>"
      ]
     },
     "metadata": {},
     "output_type": "display_data"
    }
   ],
   "source": [
    "hd_table = np.array(hamming_distances).reshape(10, 10)\n",
    "means = np.mean(hd_table, axis=0)\n",
    "stds = np.std(hd_table, axis=0)\n",
    "\n",
    "fig, ax = plt.subplots()\n",
    "ax.errorbar(np.arange(10), means, stds, linestyle='None', marker='o')\n",
    "ax.set_ylim([4500, 7000])\n",
    "ax.spines['top'].set_visible(False)\n",
    "ax.spines['right'].set_visible(False)\n",
    "\n",
    "\n",
    "plt.show()"
   ]
  }
 ],
 "metadata": {
  "kernelspec": {
   "display_name": "Python 3 (ipykernel)",
   "language": "python",
   "name": "python3"
  },
  "language_info": {
   "codemirror_mode": {
    "name": "ipython",
    "version": 3
   },
   "file_extension": ".py",
   "mimetype": "text/x-python",
   "name": "python",
   "nbconvert_exporter": "python",
   "pygments_lexer": "ipython3",
   "version": "3.9.15"
  },
  "toc-autonumbering": false,
  "toc-showmarkdowntxt": true
 },
 "nbformat": 4,
 "nbformat_minor": 5
}

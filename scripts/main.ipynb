{
 "cells": [
  {
   "attachments": {},
   "cell_type": "markdown",
   "id": "37162d17",
   "metadata": {},
   "source": [
    "### Main file"
   ]
  },
  {
   "cell_type": "code",
   "execution_count": 5,
   "id": "7781eafb",
   "metadata": {},
   "outputs": [],
   "source": [
    "from tools.helpers import *\n",
    "from tools.srbm import *\n",
    "from tools.parameters import *\n",
    "from brian2 import *\n",
    "from brian2tools import *\n",
    "import numpy as np\n",
    "import matplotlib.pyplot as plt"
   ]
  },
  {
   "attachments": {},
   "cell_type": "markdown",
   "id": "0b2cb263",
   "metadata": {},
   "source": [
    "#### Equations for Leaky integrate and fire neurons: "
   ]
  },
  {
   "cell_type": "code",
   "execution_count": 6,
   "id": "8b737fae",
   "metadata": {},
   "outputs": [],
   "source": [
    "eqs_str_lif_wnrd = '''        \n",
    "dv/dt = (-g_leak*v + i_inj + I_rec + sigma*xi*t_ref**0.5 + I_d)/Cm :volt\n",
    "dI_rec/dt = -I_rec/tau_rec : amp\n",
    "I_d : amp\n",
    "'''\n",
    "\n",
    "eqs_str_lif_wnr = ''' \n",
    "dv/dt = (-g_leak*v + i_inj + I_rec + sigma*xi*t_ref**0.5)/Cm :volt\n",
    "dI_rec/dt = -I_rec/tau_rec : amp\n",
    "'''"
   ]
  },
  {
   "attachments": {},
   "cell_type": "markdown",
   "id": "a322bf4b",
   "metadata": {},
   "source": [
    "Main part..."
   ]
  },
  {
   "cell_type": "code",
   "execution_count": 7,
   "id": "1e14ccd7",
   "metadata": {},
   "outputs": [
    {
     "ename": "TypeError",
     "evalue": "create_rbm_parameters() missing 3 required positional arguments: 'N_v', 'N_c', and 'N_h'",
     "output_type": "error",
     "traceback": [
      "\u001b[0;31m---------------------------------------------------------------------------\u001b[0m",
      "\u001b[0;31mTypeError\u001b[0m                                 Traceback (most recent call last)",
      "Cell \u001b[0;32mIn[7], line 2\u001b[0m\n\u001b[1;32m      1\u001b[0m Id \u001b[39m=\u001b[39m create_Id()\n\u001b[0;32m----> 2\u001b[0m W, b_v, b_c, b_h \u001b[39m=\u001b[39m create_rbm_parameters()\n\u001b[1;32m      3\u001b[0m mnist_data \u001b[39m=\u001b[39m load_mnist_data(in_p \u001b[39m=\u001b[39m \u001b[39m.00001\u001b[39m, max_p \u001b[39m=\u001b[39m \u001b[39m.98\u001b[39m, binary \u001b[39m=\u001b[39m \u001b[39mTrue\u001b[39;00m, seed\u001b[39m=\u001b[39m\u001b[39m0\u001b[39m)\n\u001b[1;32m      4\u001b[0m loc \u001b[39m=\u001b[39m main(W, b_v, b_c, b_h, Id \u001b[39m=\u001b[39mcreate_Id(), monitors \u001b[39m=\u001b[39m \u001b[39mTrue\u001b[39;00m, display\u001b[39m=\u001b[39m\u001b[39mTrue\u001b[39;00m, mnist_data\u001b[39m=\u001b[39mmnist_data)\n",
      "\u001b[0;31mTypeError\u001b[0m: create_rbm_parameters() missing 3 required positional arguments: 'N_v', 'N_c', and 'N_h'"
     ]
    }
   ],
   "source": [
    "Id = create_Id()\n",
    "W, b_v, b_c, b_h = create_rbm_parameters()\n",
    "mnist_data = load_mnist_data(in_p = .00001, max_p = .98, binary = True, seed=0)\n",
    "loc = main(W, b_v, b_c, b_h, Id =create_Id(), monitors = True, display=True, mnist_data=mnist_data)\n",
    "locals().update(loc)"
   ]
  },
  {
   "cell_type": "code",
   "execution_count": null,
   "id": "69b83633",
   "metadata": {},
   "outputs": [],
   "source": []
  }
 ],
 "metadata": {
  "kernelspec": {
   "display_name": "Python 3 (ipykernel)",
   "language": "python",
   "name": "python3"
  },
  "language_info": {
   "codemirror_mode": {
    "name": "ipython",
    "version": 3
   },
   "file_extension": ".py",
   "mimetype": "text/x-python",
   "name": "python",
   "nbconvert_exporter": "python",
   "pygments_lexer": "ipython3",
   "version": "3.9.15"
  },
  "toc-autonumbering": false,
  "toc-showmarkdowntxt": true
 },
 "nbformat": 4,
 "nbformat_minor": 5
}

{
 "cells": [
  {
   "attachments": {},
   "cell_type": "markdown",
   "id": "37162d17",
   "metadata": {},
   "source": [
    "### Main file"
   ]
  },
  {
   "cell_type": "code",
   "execution_count": 1,
   "id": "7781eafb",
   "metadata": {},
   "outputs": [
    {
     "name": "stderr",
     "output_type": "stream",
     "text": [
      "/opt/homebrew/Caskroom/miniconda/base/envs/jupyt-tf/lib/python3.9/site-packages/scipy/__init__.py:146: UserWarning: A NumPy version >=1.16.5 and <1.23.0 is required for this version of SciPy (detected version 1.23.2\n",
      "  warnings.warn(f\"A NumPy version >={np_minversion} and <{np_maxversion}\"\n"
     ]
    }
   ],
   "source": [
    "import numpy as np \n",
    "from tools.srbm import *           # !!! Importing the experimental SRBM model !!!\n",
    "from tools.functions import *\n",
    "import matplotlib.pyplot as plt\n",
    "from brian2tools import *\n",
    "\n",
    "date_str = str(datetime.datetime.now())[0:10]\n",
    "date_time_str = str(datetime.datetime.now())[0:10]+\"_\"+str(datetime.datetime.now())[11:16]\n"
   ]
  },
  {
   "cell_type": "code",
   "execution_count": 2,
   "id": "60533afd",
   "metadata": {},
   "outputs": [
    {
     "name": "stdout",
     "output_type": "stream",
     "text": [
      "Data loaded from data/data_finnegan_0.1_0.05_5_200_50.npy\n",
      "Hamming distance between prototype 0, 1 and prototype 0, 0 : 20.0\n",
      "Percent match between prototype 0, 1 and prototype 0, 0 : 0.9\n"
     ]
    }
   ],
   "source": [
    "# Some parameters for training the SRBM - the others are in paramters_main.py\n",
    "\n",
    "t_ref = 0.004 * second\n",
    "dcmt = 35\n",
    "T = dcmt*t_ref\n",
    "init_delay=dcmt*t_ref\n",
    "delay=0*ms\n",
    "\n",
    "n_samples = 1000\n",
    "\n",
    "# Loading the data\n",
    "data_finnegan = load_data(\"data_finnegan_0.1_0.05_5_200_50\")\n",
    "\n",
    "train_test_data = train_test_split_finnegan(data_finnegan, 0.9)\n",
    "\n",
    "\n",
    "prototype_class_1 = 0\n",
    "sub_class_1 = 1\n",
    "prototype_class_2 = 0\n",
    "sub_class_2 = 0\n",
    "\n",
    "a = train_test_data[0][prototype_class_1, sub_class_1]\n",
    "b = train_test_data[0][prototype_class_2, sub_class_2]\n",
    "print(\"Hamming distance between prototype \", str(prototype_class_1), \", \", str(sub_class_1), \n",
    "      \" and prototype \" , str(prototype_class_2), \", \", str(sub_class_2), \" : \", round(calculate_hamming_distance(a, b), 2), sep=\"\")\n",
    "print(\"Percent match between prototype \", str(prototype_class_1), \", \", str(sub_class_1), \n",
    "      \" and prototype \" , str(prototype_class_2), \", \", str(sub_class_2), \" : \", round(calculate_percent_match(a, b), 2), sep=\"\")"
   ]
  },
  {
   "cell_type": "code",
   "execution_count": 3,
   "id": "e2afe629",
   "metadata": {},
   "outputs": [],
   "source": [
    "Ids, time_test_on, time_test_off = create_finnegan_Ids(train_test_data, off_time = 1)"
   ]
  },
  {
   "cell_type": "code",
   "execution_count": 18,
   "id": "088e3543",
   "metadata": {},
   "outputs": [],
   "source": [
    "# Create the parameters for the SRBM\n",
    "W, b_v, b_c, b_h = create_rbm_parameters(N_v = N_v, N_c = N_c, N_h = N_h)\n",
    "\n",
    "# Create timepoints for classificaiton\n",
    "# One timepoint for each input pattern. Starts with timepoint 1\n",
    "timepoints, t_sim, time_points_dict = create_timepoints(Ids, init_delay, delay, T)\n",
    "\n",
    "sim_time = t_sim / (dcmt*t_ref)"
   ]
  },
  {
   "cell_type": "code",
   "execution_count": 19,
   "id": "df72c2d9",
   "metadata": {},
   "outputs": [
    {
     "name": "stderr",
     "output_type": "stream",
     "text": [
      "INFO:root:creating /var/folders/07/kzl97fv95b7d6cv_kvm50vc80000gn/T/brian_flag_test_bbazycdf/var\n",
      "INFO:root:creating /var/folders/07/kzl97fv95b7d6cv_kvm50vc80000gn/T/brian_flag_test_bbazycdf/var/folders\n",
      "INFO:root:creating /var/folders/07/kzl97fv95b7d6cv_kvm50vc80000gn/T/brian_flag_test_bbazycdf/var/folders/07\n",
      "INFO:root:creating /var/folders/07/kzl97fv95b7d6cv_kvm50vc80000gn/T/brian_flag_test_bbazycdf/var/folders/07/kzl97fv95b7d6cv_kvm50vc80000gn\n",
      "INFO:root:creating /var/folders/07/kzl97fv95b7d6cv_kvm50vc80000gn/T/brian_flag_test_bbazycdf/var/folders/07/kzl97fv95b7d6cv_kvm50vc80000gn/T\n",
      "INFO:root:creating /var/folders/07/kzl97fv95b7d6cv_kvm50vc80000gn/T/brian_flag_test_bbazycdf/var/folders/07/kzl97fv95b7d6cv_kvm50vc80000gn/T/brian_flag_test_bbazycdf\n",
      "INFO:root:arm64-apple-darwin20.0.0-clang -Wno-unused-result -Wsign-compare -Wunreachable-code -DNDEBUG -fwrapv -O2 -Wall -fPIC -O2 -isystem /opt/homebrew/Caskroom/miniconda/base/envs/jupyt-tf/include -arch arm64 -fPIC -O2 -isystem /opt/homebrew/Caskroom/miniconda/base/envs/jupyt-tf/include -arch arm64 -ftree-vectorize -fPIC -fPIE -fstack-protector-strong -O2 -pipe -isystem /opt/homebrew/Caskroom/miniconda/base/envs/jupyt-tf/include -D_FORTIFY_SOURCE=2 -isystem /opt/homebrew/Caskroom/miniconda/base/envs/jupyt-tf/include -c /var/folders/07/kzl97fv95b7d6cv_kvm50vc80000gn/T/brian_flag_test_bbazycdf/flag_test.cpp -o /var/folders/07/kzl97fv95b7d6cv_kvm50vc80000gn/T/brian_flag_test_bbazycdf/var/folders/07/kzl97fv95b7d6cv_kvm50vc80000gn/T/brian_flag_test_bbazycdf/flag_test.o -w\n",
      "INFO:root:creating /var/folders/07/kzl97fv95b7d6cv_kvm50vc80000gn/T/brian_flag_test_1544bqcr/var\n",
      "INFO:root:creating /var/folders/07/kzl97fv95b7d6cv_kvm50vc80000gn/T/brian_flag_test_1544bqcr/var/folders\n",
      "INFO:root:creating /var/folders/07/kzl97fv95b7d6cv_kvm50vc80000gn/T/brian_flag_test_1544bqcr/var/folders/07\n",
      "INFO:root:creating /var/folders/07/kzl97fv95b7d6cv_kvm50vc80000gn/T/brian_flag_test_1544bqcr/var/folders/07/kzl97fv95b7d6cv_kvm50vc80000gn\n",
      "INFO:root:creating /var/folders/07/kzl97fv95b7d6cv_kvm50vc80000gn/T/brian_flag_test_1544bqcr/var/folders/07/kzl97fv95b7d6cv_kvm50vc80000gn/T\n",
      "INFO:root:creating /var/folders/07/kzl97fv95b7d6cv_kvm50vc80000gn/T/brian_flag_test_1544bqcr/var/folders/07/kzl97fv95b7d6cv_kvm50vc80000gn/T/brian_flag_test_1544bqcr\n",
      "INFO:root:arm64-apple-darwin20.0.0-clang -Wno-unused-result -Wsign-compare -Wunreachable-code -DNDEBUG -fwrapv -O2 -Wall -fPIC -O2 -isystem /opt/homebrew/Caskroom/miniconda/base/envs/jupyt-tf/include -arch arm64 -fPIC -O2 -isystem /opt/homebrew/Caskroom/miniconda/base/envs/jupyt-tf/include -arch arm64 -ftree-vectorize -fPIC -fPIE -fstack-protector-strong -O2 -pipe -isystem /opt/homebrew/Caskroom/miniconda/base/envs/jupyt-tf/include -D_FORTIFY_SOURCE=2 -isystem /opt/homebrew/Caskroom/miniconda/base/envs/jupyt-tf/include -c /var/folders/07/kzl97fv95b7d6cv_kvm50vc80000gn/T/brian_flag_test_1544bqcr/flag_test.cpp -o /var/folders/07/kzl97fv95b7d6cv_kvm50vc80000gn/T/brian_flag_test_1544bqcr/var/folders/07/kzl97fv95b7d6cv_kvm50vc80000gn/T/brian_flag_test_1544bqcr/flag_test.o -O3\n",
      "INFO:root:creating /var/folders/07/kzl97fv95b7d6cv_kvm50vc80000gn/T/brian_flag_test_0oqzg23z/var\n",
      "INFO:root:creating /var/folders/07/kzl97fv95b7d6cv_kvm50vc80000gn/T/brian_flag_test_0oqzg23z/var/folders\n",
      "INFO:root:creating /var/folders/07/kzl97fv95b7d6cv_kvm50vc80000gn/T/brian_flag_test_0oqzg23z/var/folders/07\n",
      "INFO:root:creating /var/folders/07/kzl97fv95b7d6cv_kvm50vc80000gn/T/brian_flag_test_0oqzg23z/var/folders/07/kzl97fv95b7d6cv_kvm50vc80000gn\n",
      "INFO:root:creating /var/folders/07/kzl97fv95b7d6cv_kvm50vc80000gn/T/brian_flag_test_0oqzg23z/var/folders/07/kzl97fv95b7d6cv_kvm50vc80000gn/T\n",
      "INFO:root:creating /var/folders/07/kzl97fv95b7d6cv_kvm50vc80000gn/T/brian_flag_test_0oqzg23z/var/folders/07/kzl97fv95b7d6cv_kvm50vc80000gn/T/brian_flag_test_0oqzg23z\n",
      "INFO:root:arm64-apple-darwin20.0.0-clang -Wno-unused-result -Wsign-compare -Wunreachable-code -DNDEBUG -fwrapv -O2 -Wall -fPIC -O2 -isystem /opt/homebrew/Caskroom/miniconda/base/envs/jupyt-tf/include -arch arm64 -fPIC -O2 -isystem /opt/homebrew/Caskroom/miniconda/base/envs/jupyt-tf/include -arch arm64 -ftree-vectorize -fPIC -fPIE -fstack-protector-strong -O2 -pipe -isystem /opt/homebrew/Caskroom/miniconda/base/envs/jupyt-tf/include -D_FORTIFY_SOURCE=2 -isystem /opt/homebrew/Caskroom/miniconda/base/envs/jupyt-tf/include -c /var/folders/07/kzl97fv95b7d6cv_kvm50vc80000gn/T/brian_flag_test_0oqzg23z/flag_test.cpp -o /var/folders/07/kzl97fv95b7d6cv_kvm50vc80000gn/T/brian_flag_test_0oqzg23z/var/folders/07/kzl97fv95b7d6cv_kvm50vc80000gn/T/brian_flag_test_0oqzg23z/flag_test.o -ffast-math\n",
      "INFO:root:creating /var/folders/07/kzl97fv95b7d6cv_kvm50vc80000gn/T/brian_flag_test_22d48mcl/var\n",
      "INFO:root:creating /var/folders/07/kzl97fv95b7d6cv_kvm50vc80000gn/T/brian_flag_test_22d48mcl/var/folders\n",
      "INFO:root:creating /var/folders/07/kzl97fv95b7d6cv_kvm50vc80000gn/T/brian_flag_test_22d48mcl/var/folders/07\n",
      "INFO:root:creating /var/folders/07/kzl97fv95b7d6cv_kvm50vc80000gn/T/brian_flag_test_22d48mcl/var/folders/07/kzl97fv95b7d6cv_kvm50vc80000gn\n",
      "INFO:root:creating /var/folders/07/kzl97fv95b7d6cv_kvm50vc80000gn/T/brian_flag_test_22d48mcl/var/folders/07/kzl97fv95b7d6cv_kvm50vc80000gn/T\n",
      "INFO:root:creating /var/folders/07/kzl97fv95b7d6cv_kvm50vc80000gn/T/brian_flag_test_22d48mcl/var/folders/07/kzl97fv95b7d6cv_kvm50vc80000gn/T/brian_flag_test_22d48mcl\n",
      "INFO:root:arm64-apple-darwin20.0.0-clang -Wno-unused-result -Wsign-compare -Wunreachable-code -DNDEBUG -fwrapv -O2 -Wall -fPIC -O2 -isystem /opt/homebrew/Caskroom/miniconda/base/envs/jupyt-tf/include -arch arm64 -fPIC -O2 -isystem /opt/homebrew/Caskroom/miniconda/base/envs/jupyt-tf/include -arch arm64 -ftree-vectorize -fPIC -fPIE -fstack-protector-strong -O2 -pipe -isystem /opt/homebrew/Caskroom/miniconda/base/envs/jupyt-tf/include -D_FORTIFY_SOURCE=2 -isystem /opt/homebrew/Caskroom/miniconda/base/envs/jupyt-tf/include -c /var/folders/07/kzl97fv95b7d6cv_kvm50vc80000gn/T/brian_flag_test_22d48mcl/flag_test.cpp -o /var/folders/07/kzl97fv95b7d6cv_kvm50vc80000gn/T/brian_flag_test_22d48mcl/var/folders/07/kzl97fv95b7d6cv_kvm50vc80000gn/T/brian_flag_test_22d48mcl/flag_test.o -fno-finite-math-only\n",
      "INFO:root:creating /var/folders/07/kzl97fv95b7d6cv_kvm50vc80000gn/T/brian_flag_test_4eu5ns5w/var\n",
      "INFO:root:creating /var/folders/07/kzl97fv95b7d6cv_kvm50vc80000gn/T/brian_flag_test_4eu5ns5w/var/folders\n",
      "INFO:root:creating /var/folders/07/kzl97fv95b7d6cv_kvm50vc80000gn/T/brian_flag_test_4eu5ns5w/var/folders/07\n",
      "INFO:root:creating /var/folders/07/kzl97fv95b7d6cv_kvm50vc80000gn/T/brian_flag_test_4eu5ns5w/var/folders/07/kzl97fv95b7d6cv_kvm50vc80000gn\n",
      "INFO:root:creating /var/folders/07/kzl97fv95b7d6cv_kvm50vc80000gn/T/brian_flag_test_4eu5ns5w/var/folders/07/kzl97fv95b7d6cv_kvm50vc80000gn/T\n",
      "INFO:root:creating /var/folders/07/kzl97fv95b7d6cv_kvm50vc80000gn/T/brian_flag_test_4eu5ns5w/var/folders/07/kzl97fv95b7d6cv_kvm50vc80000gn/T/brian_flag_test_4eu5ns5w\n",
      "INFO:root:arm64-apple-darwin20.0.0-clang -Wno-unused-result -Wsign-compare -Wunreachable-code -DNDEBUG -fwrapv -O2 -Wall -fPIC -O2 -isystem /opt/homebrew/Caskroom/miniconda/base/envs/jupyt-tf/include -arch arm64 -fPIC -O2 -isystem /opt/homebrew/Caskroom/miniconda/base/envs/jupyt-tf/include -arch arm64 -ftree-vectorize -fPIC -fPIE -fstack-protector-strong -O2 -pipe -isystem /opt/homebrew/Caskroom/miniconda/base/envs/jupyt-tf/include -D_FORTIFY_SOURCE=2 -isystem /opt/homebrew/Caskroom/miniconda/base/envs/jupyt-tf/include -c /var/folders/07/kzl97fv95b7d6cv_kvm50vc80000gn/T/brian_flag_test_4eu5ns5w/flag_test.cpp -o /var/folders/07/kzl97fv95b7d6cv_kvm50vc80000gn/T/brian_flag_test_4eu5ns5w/var/folders/07/kzl97fv95b7d6cv_kvm50vc80000gn/T/brian_flag_test_4eu5ns5w/flag_test.o -march=native\n",
      "WARNING    Removing unsupported flag '-march=native' from compiler flags. [brian2.codegen.cpp_prefs]\n",
      "INFO:root:creating /var/folders/07/kzl97fv95b7d6cv_kvm50vc80000gn/T/brian_flag_test__cpeahh2/var\n",
      "INFO:root:creating /var/folders/07/kzl97fv95b7d6cv_kvm50vc80000gn/T/brian_flag_test__cpeahh2/var/folders\n",
      "INFO:root:creating /var/folders/07/kzl97fv95b7d6cv_kvm50vc80000gn/T/brian_flag_test__cpeahh2/var/folders/07\n",
      "INFO:root:creating /var/folders/07/kzl97fv95b7d6cv_kvm50vc80000gn/T/brian_flag_test__cpeahh2/var/folders/07/kzl97fv95b7d6cv_kvm50vc80000gn\n",
      "INFO:root:creating /var/folders/07/kzl97fv95b7d6cv_kvm50vc80000gn/T/brian_flag_test__cpeahh2/var/folders/07/kzl97fv95b7d6cv_kvm50vc80000gn/T\n",
      "INFO:root:creating /var/folders/07/kzl97fv95b7d6cv_kvm50vc80000gn/T/brian_flag_test__cpeahh2/var/folders/07/kzl97fv95b7d6cv_kvm50vc80000gn/T/brian_flag_test__cpeahh2\n",
      "INFO:root:arm64-apple-darwin20.0.0-clang -Wno-unused-result -Wsign-compare -Wunreachable-code -DNDEBUG -fwrapv -O2 -Wall -fPIC -O2 -isystem /opt/homebrew/Caskroom/miniconda/base/envs/jupyt-tf/include -arch arm64 -fPIC -O2 -isystem /opt/homebrew/Caskroom/miniconda/base/envs/jupyt-tf/include -arch arm64 -ftree-vectorize -fPIC -fPIE -fstack-protector-strong -O2 -pipe -isystem /opt/homebrew/Caskroom/miniconda/base/envs/jupyt-tf/include -D_FORTIFY_SOURCE=2 -isystem /opt/homebrew/Caskroom/miniconda/base/envs/jupyt-tf/include -c /var/folders/07/kzl97fv95b7d6cv_kvm50vc80000gn/T/brian_flag_test__cpeahh2/flag_test.cpp -o /var/folders/07/kzl97fv95b7d6cv_kvm50vc80000gn/T/brian_flag_test__cpeahh2/var/folders/07/kzl97fv95b7d6cv_kvm50vc80000gn/T/brian_flag_test__cpeahh2/flag_test.o -std=c++11\n"
     ]
    },
    {
     "name": "stdout",
     "output_type": "stream",
     "text": [
      "51.432234048843384\n"
     ]
    }
   ],
   "source": [
    "# SRBM main function\n",
    "\n",
    "out = main(W, b_v, b_c, b_h, Id = Ids, sim_time = sim_time, t_sim = t_sim, dorun = True, n_classes = 5, \n",
    "            monitors = True, display=False) # set display to false if no lables are used \n",
    "Mh, Mv, Mc= out['Mh'], out['Mv'], out['Mc']\n",
    "locals().update(out)"
   ]
  },
  {
   "cell_type": "code",
   "execution_count": 20,
   "id": "336ef71a",
   "metadata": {},
   "outputs": [],
   "source": [
    "# Prepare weights and biases\n",
    "W = np.array(Srs.w).reshape(N_v+N_c, N_h)*beta_parameter\n",
    "Wvh=W[:N_v,:]\n",
    "Wch=W[N_v:,:]\n",
    "mBv = np.array(Sbv.w)*beta_parameter*tau_rec*bias_input_rate\n",
    "mBh = np.array(Sbh.w)*beta_parameter*tau_rec*bias_input_rate\n",
    "b_c = mBv[N_v:(N_v+N_c)]\n",
    "b_v = mBv[:N_v]\n",
    "b_h = mBh\n",
    "mB = np.concatenate([mBv,mBh])"
   ]
  },
  {
   "cell_type": "code",
   "execution_count": 23,
   "id": "d3d995e7",
   "metadata": {},
   "outputs": [
    {
     "data": {
      "text/plain": [
       "<matplotlib.image.AxesImage at 0x12f9f5910>"
      ]
     },
     "execution_count": 23,
     "metadata": {},
     "output_type": "execute_result"
    },
    {
     "data": {
      "image/png": "[encoded data removed]",
      "text/plain": [
       "<Figure size 640x480 with 1 Axes>"
      ]
     },
     "metadata": {},
     "output_type": "display_data"
    }
   ],
   "source": [
    "\n",
    "spike_monitor = Mv\n",
    "off_time = 1\n",
    "\n",
    "i = timepoint = 46\n",
    "\n",
    "t_start_stimulus = time_points_dict[\"T\"+ str(i)+\"_s\"]\n",
    "t_stop_stimulus = time_points_dict[\"T\"+ str(i)+\"_e\"]\n",
    "t_start_recover = time_points_dict[\"T\"+ str(i+1)+\"_s\"]\n",
    "t_stop_recover = time_points_dict[\"T\"+ str(i+off_time)+\"_e\"]\n",
    "orig = spike_histogram(spike_monitor, t_start=t_start_stimulus, t_stop=t_stop_stimulus).T[1]\n",
    "recover = spike_histogram(spike_monitor, t_start=t_start_recover, t_stop=t_stop_recover).T[1]\n",
    "\n",
    "imshow(np.row_stack((np.repeat(orig, 10).reshape(200, 10).T, np.repeat(recover, 10).reshape(200, 10).T)))"
   ]
  },
  {
   "cell_type": "code",
   "execution_count": 24,
   "id": "4df40db5",
   "metadata": {},
   "outputs": [],
   "source": [
    "# This calculates the hamming distances and percent match for all test patterns. \n",
    "# It uses the spike moitor ant the timepoints where the stimuli are presented\n",
    "\n",
    "off_time = 1 # How many stimulus periods are used for recoverey period histogram\n",
    "\n",
    "hamming_distances, percent_match, originals, recovered = hamming_distances_test(Mv, time_test_on, time_points_dict, off_time=off_time)"
   ]
  },
  {
   "cell_type": "code",
   "execution_count": 32,
   "id": "861a332e",
   "metadata": {},
   "outputs": [
    {
     "data": {
      "text/plain": [
       "[7500.000000000017,\n",
       " 8235.714285714304,\n",
       " 6700.000000000015,\n",
       " 6771.428571428587,\n",
       " 6642.857142857158,\n",
       " 5921.428571428547,\n",
       " 6349.999999999974,\n",
       " 8578.571428571393,\n",
       " 6892.857142857114,\n",
       " 6514.2857142856865,\n",
       " 6214.285714285688,\n",
       " 6771.428571428543,\n",
       " 6949.999999999971,\n",
       " 6028.571428571404,\n",
       " 6821.428571428543,\n",
       " 5749.999999999976,\n",
       " 5485.714285714263,\n",
       " 5035.714285714264,\n",
       " 5635.714285714263,\n",
       " 5635.714285714263,\n",
       " 5407.142857142835,\n",
       " 4878.571428571408,\n",
       " 5214.285714285692,\n",
       " 5157.142857142836,\n",
       " 5057.142857142836,\n",
       " 5135.714285714264,\n",
       " 5464.285714285692,\n",
       " 5357.142857142835,\n",
       " 5292.85714285712,\n",
       " 5585.714285714263,\n",
       " 5049.999999999979,\n",
       " 4699.99999999998,\n",
       " 5192.857142857121,\n",
       " 5114.285714285693,\n",
       " 5278.571428571407,\n",
       " 4714.285714285695,\n",
       " 4642.857142857123,\n",
       " 5242.857142857121,\n",
       " 4707.142857142837,\n",
       " 4985.714285714264,\n",
       " 4307.142857142839,\n",
       " 4757.142857142838,\n",
       " 5414.285714285692,\n",
       " 4707.142857142837,\n",
       " 4964.285714285694,\n",
       " 5021.428571428551,\n",
       " 5078.5714285714075,\n",
       " 5264.285714285692,\n",
       " 5321.428571428549,\n",
       " 5678.571428571405]"
      ]
     },
     "execution_count": 32,
     "metadata": {},
     "output_type": "execute_result"
    }
   ],
   "source": [
    "hamming_distances"
   ]
  },
  {
   "cell_type": "code",
   "execution_count": 31,
   "id": "bb48ee67",
   "metadata": {},
   "outputs": [
    {
     "data": {
      "text/plain": [
       "array([[7500.        , 8235.71428571, 6700.        , 6771.42857143,\n",
       "        6642.85714286, 5921.42857143, 6350.        , 8578.57142857,\n",
       "        6892.85714286, 6514.28571429],\n",
       "       [6214.28571429, 6771.42857143, 6950.        , 6028.57142857,\n",
       "        6821.42857143, 5750.        , 5485.71428571, 5035.71428571,\n",
       "        5635.71428571, 5635.71428571],\n",
       "       [5407.14285714, 4878.57142857, 5214.28571429, 5157.14285714,\n",
       "        5057.14285714, 5135.71428571, 5464.28571429, 5357.14285714,\n",
       "        5292.85714286, 5585.71428571],\n",
       "       [5050.        , 4700.        , 5192.85714286, 5114.28571429,\n",
       "        5278.57142857, 4714.28571429, 4642.85714286, 5242.85714286,\n",
       "        4707.14285714, 4985.71428571],\n",
       "       [4307.14285714, 4757.14285714, 5414.28571429, 4707.14285714,\n",
       "        4964.28571429, 5021.42857143, 5078.57142857, 5264.28571429,\n",
       "        5321.42857143, 5678.57142857]])"
      ]
     },
     "execution_count": 31,
     "metadata": {},
     "output_type": "execute_result"
    }
   ],
   "source": [
    "hd_table"
   ]
  },
  {
   "cell_type": "code",
   "execution_count": 37,
   "id": "a49fc3c2",
   "metadata": {},
   "outputs": [
    {
     "data": {
      "image/png": "[encoded data removed]",
      "text/plain": [
       "<Figure size 640x480 with 1 Axes>"
      ]
     },
     "metadata": {},
     "output_type": "display_data"
    },
    {
     "data": {
      "text/plain": [
       "7010.71428571428"
      ]
     },
     "execution_count": 37,
     "metadata": {},
     "output_type": "execute_result"
    }
   ],
   "source": [
    "hd_table = np.array(hamming_distances).reshape(10, 5)\n",
    "means = np.mean(hd_table, axis=1)\n",
    "stds = np.std(hd_table, axis=1)\n",
    "\n",
    "fig, ax = plt.subplots()\n",
    "ax.errorbar(np.arange(10), means, stds, linestyle='None', marker='o')\n",
    "ax.set_ylim([4000, 8000])\n",
    "ax.spines['top'].set_visible(False)\n",
    "ax.spines['right'].set_visible(False)\n",
    "plt.show()\n",
    "\n",
    "mean(hamming_distances[:10])"
   ]
  },
  {
   "cell_type": "code",
   "execution_count": null,
   "id": "b785cd9e",
   "metadata": {},
   "outputs": [],
   "source": []
  }
 ],
 "metadata": {
  "kernelspec": {
   "display_name": "Python 3 (ipykernel)",
   "language": "python",
   "name": "python3"
  },
  "language_info": {
   "codemirror_mode": {
    "name": "ipython",
    "version": 3
   },
   "file_extension": ".py",
   "mimetype": "text/x-python",
   "name": "python",
   "nbconvert_exporter": "python",
   "pygments_lexer": "ipython3",
   "version": "3.9.15"
  },
  "toc-autonumbering": false,
  "toc-showmarkdowntxt": true
 },
 "nbformat": 4,
 "nbformat_minor": 5
}

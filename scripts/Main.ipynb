{
 "cells": [
  {
   "attachments": {},
   "cell_type": "markdown",
   "id": "37162d17",
   "metadata": {},
   "source": [
    "### Main file"
   ]
  },
  {
   "cell_type": "code",
   "execution_count": 6,
   "id": "7781eafb",
   "metadata": {},
   "outputs": [],
   "source": [
    "from functions.helpers import * "
   ]
  },
  {
   "cell_type": "code",
   "execution_count": 7,
   "id": "793f5d4e",
   "metadata": {},
   "outputs": [],
   "source": [
    "path_to_data = 'data/mnist_reduced.pkl.gz'"
   ]
  },
  {
   "cell_type": "code",
   "execution_count": null,
   "id": "e5b44a3b",
   "metadata": {},
   "outputs": [],
   "source": []
  }
 ],
 "metadata": {
  "kernelspec": {
   "display_name": "Python 3 (ipykernel)",
   "language": "python",
   "name": "python3"
  },
  "language_info": {
   "codemirror_mode": {
    "name": "ipython",
    "version": 3
   },
   "file_extension": ".py",
   "mimetype": "text/x-python",
   "name": "python",
   "nbconvert_exporter": "python",
   "pygments_lexer": "ipython3",
   "version": "3.9.15"
  },
  "toc-autonumbering": false,
  "toc-showmarkdowntxt": true
 },
 "nbformat": 4,
 "nbformat_minor": 5
}

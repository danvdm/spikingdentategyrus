{
 "cells": [
  {
   "attachments": {},
   "cell_type": "markdown",
   "id": "37162d17",
   "metadata": {},
   "source": [
    "### Main file"
   ]
  },
  {
   "cell_type": "code",
   "execution_count": 1,
   "id": "7781eafb",
   "metadata": {},
   "outputs": [],
   "source": [
    "from functions.helpers import *"
   ]
  },
  {
   "cell_type": "code",
   "execution_count": 2,
   "id": "e5b44a3b",
   "metadata": {},
   "outputs": [
    {
     "data": {
      "text/plain": [
       "<function Functions.helpers.exp_prob_beta_gamma.<locals>.func(V)>"
      ]
     },
     "execution_count": 2,
     "metadata": {},
     "output_type": "execute_result"
    }
   ],
   "source": [
    "exp_prob_beta_gamma(0.1, 0.1, 0.1, 0.1, 0.1)"
   ]
  },
  {
   "cell_type": "code",
   "execution_count": null,
   "id": "463b0863",
   "metadata": {},
   "outputs": [],
   "source": []
  }
 ],
 "metadata": {
  "kernelspec": {
   "display_name": "Python 3 (ipykernel)",
   "language": "python",
   "name": "python3"
  },
  "language_info": {
   "codemirror_mode": {
    "name": "ipython",
    "version": 3
   },
   "file_extension": ".py",
   "mimetype": "text/x-python",
   "name": "python",
   "nbconvert_exporter": "python",
   "pygments_lexer": "ipython3",
   "version": "3.9.15"
  },
  "toc-autonumbering": false,
  "toc-showmarkdowntxt": true
 },
 "nbformat": 4,
 "nbformat_minor": 5
}

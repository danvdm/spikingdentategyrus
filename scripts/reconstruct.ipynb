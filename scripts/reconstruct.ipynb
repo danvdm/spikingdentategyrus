{
 "cells": [
  {
   "cell_type": "code",
   "execution_count": 7,
   "metadata": {},
   "outputs": [
    {
     "ename": "ModuleNotFoundError",
     "evalue": "No module named 'tools.srbm_reconstruction'",
     "output_type": "error",
     "traceback": [
      "\u001b[0;31m---------------------------------------------------------------------------\u001b[0m",
      "\u001b[0;31mModuleNotFoundError\u001b[0m                       Traceback (most recent call last)",
      "Cell \u001b[0;32mIn[7], line 2\u001b[0m\n\u001b[1;32m      1\u001b[0m \u001b[39mfrom\u001b[39;00m \u001b[39mtools\u001b[39;00m\u001b[39m.\u001b[39;00m\u001b[39mhelpers\u001b[39;00m \u001b[39mimport\u001b[39;00m \u001b[39m*\u001b[39m\n\u001b[0;32m----> 2\u001b[0m \u001b[39mfrom\u001b[39;00m \u001b[39mtools\u001b[39;00m\u001b[39m.\u001b[39;00m\u001b[39msrbm_reconstruction\u001b[39;00m \u001b[39mimport\u001b[39;00m \u001b[39m*\u001b[39m\n\u001b[1;32m      3\u001b[0m \u001b[39mfrom\u001b[39;00m \u001b[39mtools\u001b[39;00m\u001b[39m.\u001b[39;00m\u001b[39mparameters_reconstruction\u001b[39;00m \u001b[39mimport\u001b[39;00m \u001b[39m*\u001b[39m\n\u001b[1;32m      4\u001b[0m \u001b[39mfrom\u001b[39;00m \u001b[39mbrian2\u001b[39;00m \u001b[39mimport\u001b[39;00m \u001b[39m*\u001b[39m\n",
      "\u001b[0;31mModuleNotFoundError\u001b[0m: No module named 'tools.srbm_reconstruction'"
     ]
    }
   ],
   "source": [
    "from tools.helpers import *\n",
    "from tools.srbm_reconstruction import *\n",
    "from tools.parameters_reconstruction import *\n",
    "from brian2 import *\n",
    "from brian2tools import *\n",
    "import numpy as np\n",
    "import matplotlib.pyplot as plt"
   ]
  },
  {
   "cell_type": "code",
   "execution_count": 4,
   "metadata": {},
   "outputs": [
    {
     "name": "stdout",
     "output_type": "stream",
     "text": [
      "Matrices loaded from output/2023-04-13/\n"
     ]
    },
    {
     "data": {
      "text/plain": [
       "array([[ 0.04782702,  0.07920063, -0.09999197, ..., -0.14154351,\n",
       "        -0.02852525, -0.05036002],\n",
       "       [-0.24289758,  0.03052993, -0.04896938, ...,  0.00315555,\n",
       "         0.00748668, -0.13284254],\n",
       "       [-0.16286085, -0.03869478, -0.22225672, ...,  0.02045311,\n",
       "         0.08471836, -0.13933921],\n",
       "       ...,\n",
       "       [-0.14894635, -0.20287726, -0.20688444, ..., -0.11891371,\n",
       "        -0.07100205, -0.0959729 ],\n",
       "       [ 0.06564595, -0.03676915,  0.11284022, ..., -0.18403364,\n",
       "        -0.10475697, -0.08883688],\n",
       "       [ 0.03414688, -0.32566373,  0.12423033, ..., -0.05253219,\n",
       "        -0.15301418, -0.10378663]])"
      ]
     },
     "execution_count": 4,
     "metadata": {},
     "output_type": "execute_result"
    }
   ],
   "source": [
    "date_time = '2023-04-13_16:30'\n",
    "W, Wvh, Wch, mBv, mBh, b_c, b_v, b_h, mB = load_matrices(date_time)\n",
    "W"
   ]
  },
  {
   "cell_type": "code",
   "execution_count": 4,
   "metadata": {},
   "outputs": [],
   "source": []
  },
  {
   "cell_type": "code",
   "execution_count": null,
   "metadata": {},
   "outputs": [],
   "source": []
  }
 ],
 "metadata": {
  "kernelspec": {
   "display_name": "Python 3 (ipykernel)",
   "language": "python",
   "name": "python3"
  },
  "language_info": {
   "codemirror_mode": {
    "name": "ipython",
    "version": 3
   },
   "file_extension": ".py",
   "mimetype": "text/x-python",
   "name": "python",
   "nbconvert_exporter": "python",
   "pygments_lexer": "ipython3",
   "version": "3.9.15"
  },
  "orig_nbformat": 4
 },
 "nbformat": 4,
 "nbformat_minor": 2
}
